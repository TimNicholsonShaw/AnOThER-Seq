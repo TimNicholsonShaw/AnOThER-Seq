{
 "cells": [
  {
   "cell_type": "code",
   "execution_count": 123,
   "metadata": {
    "collapsed": false
   },
   "outputs": [
    {
     "name": "stdout",
     "output_type": "stream",
     "text": [
      "woo\n"
     ]
    }
   ],
   "source": [
    "import sys\n",
    "\n",
    "moduleLoc = \"/Users/Lykke-AndersenLab/PycharmProjects/AnoThER-Seq\"\n",
    "if moduleLoc in sys.path: \n",
    "    print('woo')\n",
    "else:\n",
    "    sys.path.append(moduleLoc)\n",
    "import matplotlib.pyplot as plt\n",
    "import tools, analysis\n",
    "import pandas as pd\n",
    "import seaborn as sns\n",
    "import numpy as np\n",
    "from scipy import stats\n",
    "\n",
    "# Enable inline plotting\n",
    "%matplotlib inline"
   ]
  },
  {
   "cell_type": "code",
   "execution_count": 2,
   "metadata": {
    "collapsed": false,
    "scrolled": true
   },
   "outputs": [
    {
     "name": "stdout",
     "output_type": "stream",
     "text": [
      "Control In!\n",
      "Knockdown In!\n",
      "WT In!\n",
      "EA In!\n"
     ]
    }
   ],
   "source": [
    "#read tail files into a pd dataframe\n",
    "import imp\n",
    "imp.reload(tools)\n",
    "folderLoc = \"/Users/Lykke-AndersenLab/Dropbox/NoctData/\"\n",
    "controlName = \"siLuc.tails\"\n",
    "KDname = \"siNoct.tails\"\n",
    "WTname = \"NoctWT.tails\"\n",
    "EAname = \"NoctEA.tails\"\n",
    "\n",
    "# Function to read in .tail format file and return a dataframe\n",
    "control = tools.pdTailMaker(folderLoc+controlName)\n",
    "print('Control In!')\n",
    "knockdown = tools.pdTailMaker(folderLoc+KDname)\n",
    "print('Knockdown In!')\n",
    "WTaddback = tools.pdTailMaker(folderLoc+WTname)\n",
    "print('WT In!')\n",
    "EAaddback = tools.pdTailMaker(folderLoc+EAname)\n",
    "print('EA In!')"
   ]
  },
  {
   "cell_type": "code",
   "execution_count": 131,
   "metadata": {
    "collapsed": false
   },
   "outputs": [
    {
     "name": "stdout",
     "output_type": "stream",
     "text": [
      "CONTROL\n",
      "Initial: 3903782\n",
      "Filtered: 1351776\n",
      "\n",
      "KNOCKDOWN\n",
      "Initial: 4621080\n",
      "Filtered: 1324006\n",
      "\n",
      "WT\n",
      "Initial: 2411894\n",
      "Filtered: 759185\n",
      "\n",
      "EA\n",
      "Initial: 2579469\n",
      "Filtered: 779416\n",
      "\n"
     ]
    },
    {
     "data": {
      "text/html": [
       "<div>\n",
       "<table border=\"1\" class=\"dataframe\">\n",
       "  <thead>\n",
       "    <tr style=\"text-align: right;\">\n",
       "      <th></th>\n",
       "      <th>3Loc</th>\n",
       "      <th>TailLength</th>\n",
       "      <th>TailSeq</th>\n",
       "      <th>Type</th>\n",
       "      <th>Source</th>\n",
       "      <th>TotalTail</th>\n",
       "    </tr>\n",
       "    <tr>\n",
       "      <th>Gene</th>\n",
       "      <th></th>\n",
       "      <th></th>\n",
       "      <th></th>\n",
       "      <th></th>\n",
       "      <th></th>\n",
       "      <th></th>\n",
       "    </tr>\n",
       "  </thead>\n",
       "  <tbody>\n",
       "    <tr>\n",
       "      <th>RNU1-28P-201</th>\n",
       "      <td>0.0</td>\n",
       "      <td>0.0</td>\n",
       "      <td></td>\n",
       "      <td>snRNA</td>\n",
       "      <td>siLuc</td>\n",
       "      <td>0.0</td>\n",
       "    </tr>\n",
       "    <tr>\n",
       "      <th>RNU1-28P-201</th>\n",
       "      <td>0.0</td>\n",
       "      <td>0.0</td>\n",
       "      <td></td>\n",
       "      <td>snRNA</td>\n",
       "      <td>siLuc</td>\n",
       "      <td>0.0</td>\n",
       "    </tr>\n",
       "    <tr>\n",
       "      <th>RNU1-28P-201</th>\n",
       "      <td>0.0</td>\n",
       "      <td>0.0</td>\n",
       "      <td></td>\n",
       "      <td>snRNA</td>\n",
       "      <td>siLuc</td>\n",
       "      <td>0.0</td>\n",
       "    </tr>\n",
       "    <tr>\n",
       "      <th>RNU1-28P-201</th>\n",
       "      <td>0.0</td>\n",
       "      <td>0.0</td>\n",
       "      <td></td>\n",
       "      <td>snRNA</td>\n",
       "      <td>siLuc</td>\n",
       "      <td>0.0</td>\n",
       "    </tr>\n",
       "    <tr>\n",
       "      <th>RNU1-28P-201</th>\n",
       "      <td>0.0</td>\n",
       "      <td>0.0</td>\n",
       "      <td></td>\n",
       "      <td>snRNA</td>\n",
       "      <td>siLuc</td>\n",
       "      <td>0.0</td>\n",
       "    </tr>\n",
       "  </tbody>\n",
       "</table>\n",
       "</div>"
      ],
      "text/plain": [
       "              3Loc  TailLength TailSeq   Type Source  TotalTail\n",
       "Gene                                                           \n",
       "RNU1-28P-201   0.0         0.0          snRNA  siLuc        0.0\n",
       "RNU1-28P-201   0.0         0.0          snRNA  siLuc        0.0\n",
       "RNU1-28P-201   0.0         0.0          snRNA  siLuc        0.0\n",
       "RNU1-28P-201   0.0         0.0          snRNA  siLuc        0.0\n",
       "RNU1-28P-201   0.0         0.0          snRNA  siLuc        0.0"
      ]
     },
     "execution_count": 131,
     "metadata": {},
     "output_type": "execute_result"
    }
   ],
   "source": [
    "# Filter and combine tail data\n",
    "minTail = -10\n",
    "maxTail = 10\n",
    "\n",
    "def filtTails(df, source, minTail, maxTail):\n",
    "    newDf = df[(df['3Loc']+df['TailLength'])>=minTail]\n",
    "    newDf = newDf[(newDf['3Loc']+newDf['TailLength'])<=maxTail]\n",
    "    newDf['Source'] = source\n",
    "    newDf['TotalTail'] = newDf['3Loc'] + newDf['TailLength']\n",
    "    return newDf\n",
    "\n",
    "f_control = filtTails(control, 'siLuc',minTail,maxTail)\n",
    "f_knockdown = filtTails(knockdown, 'siNoct',minTail,maxTail)\n",
    "f_WT = filtTails(WTaddback,'WT Addback',minTail,maxTail)\n",
    "f_EA = filtTails(EAaddback,'EA Addback',minTail,maxTail)\n",
    "\n",
    "\n",
    "# Combined experimental data\n",
    "combo = pd.concat([f_control,\n",
    "                   f_knockdown,\n",
    "                   f_WT,\n",
    "                   f_EA],\n",
    "                  ignore_index=True)\n",
    "\n",
    "print (\"CONTROL\\nInitial: {}\\nFiltered: {}\\n\".format(len(control),len(filtControl)))\n",
    "print (\"KNOCKDOWN\\nInitial: {}\\nFiltered: {}\\n\".format(len(knockdown),len(filtKD)))\n",
    "print (\"WT\\nInitial: {}\\nFiltered: {}\\n\".format(len(WTaddback),len(filtWT)))\n",
    "print (\"EA\\nInitial: {}\\nFiltered: {}\\n\".format(len(EAaddback),len(filtEA)))\n",
    "\n",
    "combo.set_index('Gene', inplace=True)\n",
    "#combo.to_csv('combo.csv')\n",
    "\n",
    "combo.head()"
   ]
  },
  {
   "cell_type": "code",
   "execution_count": 250,
   "metadata": {
    "collapsed": false
   },
   "outputs": [
    {
     "data": {
      "image/png": "[encoded data removed]",
      "text/plain": [
       "<matplotlib.figure.Figure at 0x18b434cf8>"
      ]
     },
     "metadata": {},
     "output_type": "display_data"
    }
   ],
   "source": [
    "#Plot distribution of mapped reads\n",
    "f, axarr = plt.subplots(2,2, figsize=(12,12), )\n",
    "axarr[0,0].set_title(\"siLuc\")\n",
    "axarr[0,1].set_title(\"siNoct\")\n",
    "axarr[1,0].set_title(\"WT Addback\")\n",
    "axarr[1,1].set_title(\"EA Addback\")\n",
    "\n",
    "\n",
    "def pieMaker (df, column, otheredNum, axis):\n",
    "    x = list(df[column].value_counts()[:-otheredNum].values)\n",
    "    others = df[column].value_counts()[-otheredNum:].values\n",
    "    others = sum(others)\n",
    "    labels = df[column].value_counts()[:-otheredNum].index.tolist()\n",
    "    labels += [\"Others\"]\n",
    "    colors = sns.color_palette(\"Set3\", 10)\n",
    "    x +=[others]\n",
    "    plt.subplot(axis)\n",
    "    axis = plt.pie(x,labels=labels, colors=colors)\n",
    "pieMaker(f_control,'Type',4, axarr[0,0])\n",
    "pieMaker(f_knockdown,'Type',4, axarr[0,1])\n",
    "pieMaker(f_WT,'Type',4,axarr[1,0])\n",
    "pieMaker(f_EA,'Type',5,axarr[1,1])\n",
    "\n",
    "#f_control['Type'].value_counts().plot(kind='pie',ax=axarr[0,0])\n",
    "#f_knockdown['Type'].value_counts().plot(kind='pie',ax=axarr[0,1])\n",
    "#f_WT['Type'].value_counts().plot(kind='pie', ax=axarr[1,0])\n",
    "#f_EA['Type'].value_counts().plot(kind='pie',ax=axarr[1,1])"
   ]
  },
  {
   "cell_type": "code",
   "execution_count": null,
   "metadata": {
    "collapsed": false,
    "scrolled": true
   },
   "outputs": [],
   "source": [
    "# Create TPM Table and Save to CSV\n",
    "\n",
    "def TPMmaker(df, source, totalReads):\n",
    "    df = df.set_index('Gene')\n",
    "    df.head()\n",
    "    names = set(df.index)\n",
    "    out = []\n",
    "    # 'Gene', 'Source', 'Count', 'TPM'\n",
    "    for name in names:\n",
    "        out.append([name,\n",
    "                    source,\n",
    "                    df.loc[[name]]['Type'].values[0],\n",
    "                    len(df.loc[[name]]),\n",
    "                    len(df.loc[[name]])/(totalReads/1000000)])\n",
    "    print(source + \" finished.\")\n",
    "    return pd.DataFrame(out, columns = [\"Gene\",'Type','Source','Count','TPM'])\n",
    "\n",
    "TPM = pd.concat([TPMmaker(f_control,\"siLuc\",len(control)),\n",
    "           TPMmaker(f_knockdown, \"siNoct\", len(knockdown)),\n",
    "           TPMmaker(f_WT,\"WT Addback\",len(WTaddback)),\n",
    "           TPMmaker(f_EA, \"EA Addback\", len(EAaddback))],\n",
    "          ignore_index=True)\n",
    "\n",
    "TPM.to_csv('TPM.csv')"
   ]
  },
  {
   "cell_type": "code",
   "execution_count": null,
   "metadata": {
    "collapsed": false
   },
   "outputs": [],
   "source": [
    "# Create candidates\n",
    "df1 = combo[combo['Source']=='siLuc']\n",
    "df2 = combo[combo['Source']=='siNoct']\n",
    "def findCandidates(df1, df2, pThresh=0.05, minTranscripts=10, minDiff=0.1):\n",
    "    cans = []\n",
    "    \n",
    "    # Build a list of transcripts that are in both sets\n",
    "    transcripts = list(set(df1.index) & set(df2.index))\n",
    "    \n",
    "    for tran in transcripts[:20]:\n",
    "        df1_reads = df1.loc[[tran],['TotalTail']]\n",
    "        df2_reads = df2.loc[[tran],['TotalTail']]\n",
    "        \n",
    "        #Don't consider reads with less reads than minTranscripts\n",
    "        if len(df1_reads) < minTranscripts or len(df2_reads) < minTranscripts: continue\n",
    "        \n",
    "        tran_type = df1.loc[[tran],['Type']].values[0][0]\n",
    "        df1_count = len(df1_reads.values)\n",
    "        df1_average = np.average(df1_reads.values)\n",
    "        df1_stdev = np.std(df1_reads.values)\n",
    "        df2_count = len(df2_reads.values)\n",
    "        df2_average = np.average(df2_reads.values)\n",
    "        df2_stdev = np.std(df2_reads.values)\n",
    "        #p_value = stats.ks_2samp(list(df1_reads.values),list(df2_reads.values))\n",
    "        \n",
    "        print(df1_reads)\n",
    "        \n",
    "findCandidates(df1,df2)\n"
   ]
  },
  {
   "cell_type": "code",
   "execution_count": 94,
   "metadata": {
    "collapsed": true
   },
   "outputs": [],
   "source": [
    "# Can read in from saved CSVs\n",
    "TPM = pd.read_csv('TPM.csv',index_col=0)\n",
    "combo = pd.read_csv('combo.csv',index_col=0)"
   ]
  },
  {
   "cell_type": "code",
   "execution_count": 65,
   "metadata": {
    "collapsed": true
   },
   "outputs": [],
   "source": [
    "#Find candidates using TPM, saves candidates based on a maturation hypothesis and a decay hypothesis\n",
    "matCans = []\n",
    "decayCans = []\n",
    "names = list(set(TPM['Gene']))\n",
    "df1 = TPM[TPM['Source']=='siLuc']\n",
    "df2 = TPM[TPM['Source']=='siNoct']\n",
    "df3 = TPM[TPM['Source']=='WT Addback']\n",
    "df4 = TPM[TPM['Source']=='EA Addback']\n",
    "\n",
    "for name in names:\n",
    "    try:\n",
    "        siLuc = (df1[df1['Gene']==name]['TPM']).values[0]\n",
    "        siNoct = (df2[df2['Gene']==name]['TPM']).values[0]\n",
    "        WT = (df3[df3['Gene']==name]['TPM']).values[0]\n",
    "        EA = (df4[df4['Gene']==name]['TPM']).values[0]\n",
    "    except:\n",
    "        continue\n",
    "    \n",
    "    #Changes in TPM preicted by different models\n",
    "    if siLuc > siNoct and siLuc > EA and siNoct < WT and WT > EA: matCans.append([name,siLuc,siNoct,WT,EA])\n",
    "    if siLuc < siNoct and siLuc < EA and siNoct > WT and WT < EA: decayCans.append([name,siLuc,siNoct,WT,EA])\n",
    "        \n",
    "pd.DataFrame(matCans, columns=['Gene','siLuc','siNoct','WT','EA']).to_csv('Maturation_Candidates.csv')\n",
    "pd.DataFrame(decayCans, columns=['Gene','siLuc','siNoct','WT','EA']).to_csv('Decay_Candidates.csv')"
   ]
  },
  {
   "cell_type": "code",
   "execution_count": null,
   "metadata": {
    "collapsed": true
   },
   "outputs": [],
   "source": [
    "df = pd.read_csv(folderLoc+\"NoctVsWT_candidates.csv\",index_col=False)\n",
    "df.head(10)"
   ]
  },
  {
   "cell_type": "code",
   "execution_count": null,
   "metadata": {
    "collapsed": true
   },
   "outputs": [],
   "source": [
    "df = filtControl[filtControl['Gene'].str.contains('Mt_tRNA')]"
   ]
  },
  {
   "cell_type": "code",
   "execution_count": null,
   "metadata": {
    "collapsed": true
   },
   "outputs": [],
   "source": [
    "plt.figure(figsize=(20,20))\n",
    "df = filtControl[filtControl['Gene'].str.contains('Mt_tRNA')]\n",
    "values, base = np.histogram(df['3Loc']+df['TailLength'], bins=20, normed=True)\n",
    "cumulative = np.cumsum(values)\n",
    "plt.step(base[:-1], cumulative, c='blue')\n",
    "\n",
    "df = filtKD[filtKD['Gene'].str.contains('Mt_tRNA')]\n",
    "values, base = np.histogram(df['3Loc']+df['TailLength'], bins=20, normed=True)\n",
    "cumulative = np.cumsum(values)\n",
    "plt.step(base[:-1], cumulative, c='green')\n",
    "\n",
    "df = filtWT[filtWT['Gene'].str.contains('Mt_tRNA')]\n",
    "values, base = np.histogram(df['3Loc']+df['TailLength'], bins=20, normed=True)\n",
    "cumulative = np.cumsum(values)\n",
    "plt.step(base[:-1], cumulative, c='red')\n",
    "\n",
    "df = filtEA[filtEA['Gene'].str.contains('Mt_tRNA')]\n",
    "values, base = np.histogram(df['3Loc']+df['TailLength'], bins=20, normed=True)\n",
    "cumulative = np.cumsum(values)\n",
    "plt.step(base[:-1], cumulative, c='yellow')\n",
    "\n",
    "#Cumulative plot of mitochondrial tRNA lengths"
   ]
  },
  {
   "cell_type": "code",
   "execution_count": null,
   "metadata": {
    "collapsed": true
   },
   "outputs": [],
   "source": [
    "plt.figure(figsize=(20,20))\n",
    "df = filtControl[filtControl['Gene'].str.contains('gtRNA')]\n",
    "values, base = np.histogram(df['3Loc']+df['TailLength'], bins=20, normed=True)\n",
    "cumulative = np.cumsum(values)\n",
    "plt.step(base[:-1], cumulative, c='blue')\n",
    "\n",
    "df = filtKD[filtKD['Gene'].str.contains('gtRNA')]\n",
    "values, base = np.histogram(df['3Loc']+df['TailLength'], bins=20, normed=True)\n",
    "cumulative = np.cumsum(values)\n",
    "plt.step(base[:-1], cumulative, c='green')\n",
    "\n",
    "df = filtWT[filtWT['Gene'].str.contains('gtRNA')]\n",
    "values, base = np.histogram(df['3Loc']+df['TailLength'], bins=20, normed=True)\n",
    "cumulative = np.cumsum(values)\n",
    "plt.step(base[:-1], cumulative, c='red')\n",
    "\n",
    "df = filtEA[filtEA['Gene'].str.contains('gtRNA')]\n",
    "values, base = np.histogram(df['3Loc']+df['TailLength'], bins=20, normed=True)\n",
    "cumulative = np.cumsum(values)\n",
    "plt.step(base[:-1], cumulative, c='yellow')\n",
    "\n",
    "#cumulative plots of tRNA"
   ]
  },
  {
   "cell_type": "code",
   "execution_count": null,
   "metadata": {
    "collapsed": true
   },
   "outputs": [],
   "source": [
    "df1 = filtControl[filtControl['Gene'].str.contains('gtRNA')]\n",
    "df2 = filtKD[filtKD['Gene'].str.contains('gtRNA')]\n",
    "df3 = filtWT[filtWT['Gene'].str.contains('gtRNA')]\n",
    "df4 = filtEA[filtEA['Gene'].str.contains('gtRNA')]"
   ]
  },
  {
   "cell_type": "code",
   "execution_count": null,
   "metadata": {
    "collapsed": true
   },
   "outputs": [],
   "source": [
    "#TPM Calculations\n",
    "df1 = filtControl[filtControl['Gene'].str.contains('tRNA')]\n",
    "TPM1 = pd.DataFrame(df1['Gene'].value_counts()).rename(columns={'Gene':'Count'})\n",
    "TPM1['Source'] = 'Control'\n",
    "TPM1['TPM'] = TPM1['Count']/(len(filtControl)/1000000)\n",
    "\n",
    "df2 = filtKD[filtKD['Gene'].str.contains('tRNA')]\n",
    "TPM2 = pd.DataFrame(df2['Gene'].value_counts()).rename(columns={'Gene':'Count'})\n",
    "TPM2['Source'] = 'siNoct'\n",
    "TPM2['TPM'] = TPM2['Count']/(len(filtKD)/1000000)\n",
    "\n",
    "df3 = filtWT[filtWT['Gene'].str.contains('tRNA')]\n",
    "TPM3 = pd.DataFrame(df3['Gene'].value_counts()).rename(columns={'Gene':'Count'})\n",
    "TPM3['Source'] = 'WT Addback'\n",
    "TPM3['TPM'] = TPM3['Count']/(len(filtWT)/1000000)\n",
    "\n",
    "df4 = filtEA[filtEA['Gene'].str.contains('tRNA')]\n",
    "TPM4 = pd.DataFrame(df4['Gene'].value_counts()).rename(columns={'Gene':'Count'})\n",
    "TPM4['Source'] = 'EA Addback'\n",
    "TPM4['TPM'] = TPM4['Count']/(len(filtEA)/1000000)\n",
    "\n",
    "\n",
    "dude = pd.concat([TPM1,TPM2,TPM3,TPM4])\n",
    "ind = dude.index[:5]\n",
    "dude=dude.ix[ind]\n",
    "dude"
   ]
  },
  {
   "cell_type": "code",
   "execution_count": null,
   "metadata": {
    "collapsed": true
   },
   "outputs": [],
   "source": [
    "plt.figure(figsize=(20,20))\n",
    "sns.barplot(dude.index,dude.TPM,data=dude,hue='Source')\n",
    "plt.xticks(rotation=-90)"
   ]
  },
  {
   "cell_type": "code",
   "execution_count": null,
   "metadata": {
    "collapsed": true
   },
   "outputs": [],
   "source": [
    "sns.barplot?"
   ]
  },
  {
   "cell_type": "code",
   "execution_count": null,
   "metadata": {
    "collapsed": true
   },
   "outputs": [],
   "source": [
    "pd.DataFrame?"
   ]
  },
  {
   "cell_type": "code",
   "execution_count": null,
   "metadata": {
    "collapsed": true
   },
   "outputs": [],
   "source": [
    "pd.DataFrame.loc?"
   ]
  },
  {
   "cell_type": "code",
   "execution_count": 95,
   "metadata": {
    "collapsed": true
   },
   "outputs": [],
   "source": [
    "plt.xticks?"
   ]
  },
  {
   "cell_type": "code",
   "execution_count": null,
   "metadata": {
    "collapsed": true
   },
   "outputs": [],
   "source": []
  }
 ],
 "metadata": {
  "kernelspec": {
   "display_name": "Python 3",
   "language": "python",
   "name": "python3"
  },
  "language_info": {
   "codemirror_mode": {
    "name": "ipython",
    "version": 3
   },
   "file_extension": ".py",
   "mimetype": "text/x-python",
   "name": "python",
   "nbconvert_exporter": "python",
   "pygments_lexer": "ipython3",
   "version": "3.5.1"
  }
 },
 "nbformat": 4,
 "nbformat_minor": 0
}
