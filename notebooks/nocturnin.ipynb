{
 "cells": [
  {
   "cell_type": "code",
   "execution_count": 17,
   "metadata": {
    "collapsed": false
   },
   "outputs": [
    {
     "name": "stdout",
     "output_type": "stream",
     "text": [
      "woo\n"
     ]
    }
   ],
   "source": [
    "import sys\n",
    "moduleLoc = \"/Users/Lykke-AndersenLab/PycharmProjects/AnoThER-Seq\"\n",
    "if moduleLoc in sys.path: \n",
    "    print('woo')\n",
    "else:\n",
    "    sys.path.append(moduleLoc)\n",
    "    import matplotlib.pyplot as plt\n",
    "    \n",
    "import pandas as pd\n",
    "import matplotlib, sns\n",
    "\n",
    "# Enable inline plotting\n",
    "%matplotlib inline"
   ]
  },
  {
   "cell_type": "code",
   "execution_count": 65,
   "metadata": {
    "collapsed": false
   },
   "outputs": [
    {
     "name": "stdout",
     "output_type": "stream",
     "text": [
      "3903782\n",
      "1456625\n",
      "4621080\n",
      "1430617\n",
      "2411894\n",
      "812829\n",
      "2579469\n",
      "861481\n"
     ]
    }
   ],
   "source": [
    "#read in tail files, filter out decay products by tail length\n",
    "folderLoc = \"/Users/Lykke-AndersenLab/Dropbox/NoctData/\"\n",
    "\n",
    "maxTail = 10\n",
    "minTail = -100\n",
    "\n",
    "siLuc = pd.read_csv(folderLoc+\"siLuc.tails\", index_col=False)\n",
    "print(siLuc['UniqueReads'].sum())\n",
    "siLuc = siLuc[siLuc['3Loc']+siLuc['TailLength'] >= minTail]\n",
    "siLuc = siLuc[siLuc['3Loc']+siLuc['TailLength'] <= maxTail]\n",
    "print(siLuc['UniqueReads'].sum())\n",
    "\n",
    "siNoct = pd.read_csv(folderLoc+\"siNoct.tails\", index_col=False)\n",
    "print(siNoct['UniqueReads'].sum())\n",
    "siNoct = siNoct[siNoct['3Loc']+siNoct['TailLength'] >= minTail]\n",
    "siNoct = siNoct[siNoct['3Loc']+siNoct['TailLength'] <= maxTail]\n",
    "print(siNoct['UniqueReads'].sum())\n",
    "\n",
    "NoctWT = pd.read_csv(folderLoc+\"NoctWT.tails\", index_col=False)\n",
    "print(NoctWT['UniqueReads'].sum())\n",
    "NoctWT = NoctWT[NoctWT['3Loc']+NoctWT['TailLength'] >= minTail]\n",
    "NoctWT = NoctWT[NoctWT['3Loc']+NoctWT['TailLength'] <= maxTail]\n",
    "print(NoctWT['UniqueReads'].sum())\n",
    "\n",
    "NoctEA = pd.read_csv(folderLoc+\"NoctEA.tails\", index_col=False)\n",
    "print(NoctEA['UniqueReads'].sum())\n",
    "NoctEA = NoctEA[NoctEA['3Loc']+NoctEA['TailLength'] >= minTail]\n",
    "NoctEA = NoctEA[NoctEA['3Loc']+NoctEA['TailLength'] <= maxTail]\n",
    "print(NoctEA['UniqueReads'].sum())"
   ]
  },
  {
   "cell_type": "code",
   "execution_count": null,
   "metadata": {
    "collapsed": false
   },
   "outputs": [],
   "source": []
  },
  {
   "cell_type": "code",
   "execution_count": 56,
   "metadata": {
    "collapsed": false
   },
   "outputs": [
    {
     "data": {
      "text/html": [
       "<div>\n",
       "<table border=\"1\" class=\"dataframe\">\n",
       "  <thead>\n",
       "    <tr style=\"text-align: right;\">\n",
       "      <th></th>\n",
       "      <th>Sequence</th>\n",
       "      <th>UniqueReads</th>\n",
       "      <th>Gene</th>\n",
       "      <th>3Loc</th>\n",
       "      <th>TailLength</th>\n",
       "      <th>TailSequence</th>\n",
       "    </tr>\n",
       "  </thead>\n",
       "  <tbody>\n",
       "    <tr>\n",
       "      <th>0</th>\n",
       "      <td>CAGGGCGAGGCTTATCCATTGCACTCCGGATGTGCTGACCCCTGCG...</td>\n",
       "      <td>84984</td>\n",
       "      <td>RNU1-28P-201|snRNA</td>\n",
       "      <td>0.0</td>\n",
       "      <td>0.0</td>\n",
       "      <td>NaN</td>\n",
       "    </tr>\n",
       "    <tr>\n",
       "      <th>1</th>\n",
       "      <td>ATCCGAGGACAATATATTAAATGGATTTTTGGAGCAGGGAGATGGA...</td>\n",
       "      <td>60854</td>\n",
       "      <td>U2.19-201|snRNA</td>\n",
       "      <td>-4.0</td>\n",
       "      <td>1.0</td>\n",
       "      <td>A</td>\n",
       "    </tr>\n",
       "    <tr>\n",
       "      <th>2</th>\n",
       "      <td>GTGCTCGCTTCGGCAGCACATATACTAAAATTGGAACGATACAGAG...</td>\n",
       "      <td>46467</td>\n",
       "      <td>RNU6-3P-201|snRNA</td>\n",
       "      <td>0.0</td>\n",
       "      <td>0.0</td>\n",
       "      <td>NaN</td>\n",
       "    </tr>\n",
       "    <tr>\n",
       "      <th>3</th>\n",
       "      <td>CTATCCGAGGACAATATATTAAATGGATTTTTGGAGCAGGGAGATG...</td>\n",
       "      <td>23810</td>\n",
       "      <td>U2.19-201|snRNA</td>\n",
       "      <td>-4.0</td>\n",
       "      <td>0.0</td>\n",
       "      <td>NaN</td>\n",
       "    </tr>\n",
       "    <tr>\n",
       "      <th>4</th>\n",
       "      <td>CAATGAGGTTTATCCGAGGCGCGATTATTGCTAATTGAAAACTTTT...</td>\n",
       "      <td>16384</td>\n",
       "      <td>RNU4-2-201|snRNA</td>\n",
       "      <td>0.0</td>\n",
       "      <td>3.0</td>\n",
       "      <td>CTG</td>\n",
       "    </tr>\n",
       "  </tbody>\n",
       "</table>\n",
       "</div>"
      ],
      "text/plain": [
       "                                            Sequence  UniqueReads  \\\n",
       "0  CAGGGCGAGGCTTATCCATTGCACTCCGGATGTGCTGACCCCTGCG...        84984   \n",
       "1  ATCCGAGGACAATATATTAAATGGATTTTTGGAGCAGGGAGATGGA...        60854   \n",
       "2  GTGCTCGCTTCGGCAGCACATATACTAAAATTGGAACGATACAGAG...        46467   \n",
       "3  CTATCCGAGGACAATATATTAAATGGATTTTTGGAGCAGGGAGATG...        23810   \n",
       "4  CAATGAGGTTTATCCGAGGCGCGATTATTGCTAATTGAAAACTTTT...        16384   \n",
       "\n",
       "                 Gene  3Loc  TailLength TailSequence  \n",
       "0  RNU1-28P-201|snRNA   0.0         0.0          NaN  \n",
       "1     U2.19-201|snRNA  -4.0         1.0            A  \n",
       "2   RNU6-3P-201|snRNA   0.0         0.0          NaN  \n",
       "3     U2.19-201|snRNA  -4.0         0.0          NaN  \n",
       "4    RNU4-2-201|snRNA   0.0         3.0          CTG  "
      ]
     },
     "execution_count": 56,
     "metadata": {},
     "output_type": "execute_result"
    }
   ],
   "source": [
    "siLuc.head()"
   ]
  },
  {
   "cell_type": "code",
   "execution_count": null,
   "metadata": {
    "collapsed": true
   },
   "outputs": [],
   "source": []
  }
 ],
 "metadata": {
  "kernelspec": {
   "display_name": "Python 3",
   "language": "python",
   "name": "python3"
  },
  "language_info": {
   "codemirror_mode": {
    "name": "ipython",
    "version": 3
   },
   "file_extension": ".py",
   "mimetype": "text/x-python",
   "name": "python",
   "nbconvert_exporter": "python",
   "pygments_lexer": "ipython3",
   "version": "3.5.1"
  }
 },
 "nbformat": 4,
 "nbformat_minor": 0
}
