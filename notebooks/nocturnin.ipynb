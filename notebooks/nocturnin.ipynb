{
 "cells": [
  {
   "cell_type": "code",
   "execution_count": 1,
   "metadata": {},
   "outputs": [],
   "source": [
    "import sys\n",
    "\n",
    "moduleLoc = \"C:\\\\Users\\\\tlsha\\\\PycharmProjects\\\\another-seq\"\n",
    "if moduleLoc in sys.path: \n",
    "    print('woo')\n",
    "else:\n",
    "    sys.path.append(moduleLoc)\n",
    "import matplotlib.pyplot as plt\n",
    "import tools\n",
    "import pandas as pd\n",
    "import seaborn as sns\n",
    "import numpy as np\n",
    "\n",
    "# Enable inline plotting\n",
    "%matplotlib inline"
   ]
  },
  {
   "cell_type": "code",
   "execution_count": 2,
   "metadata": {
    "scrolled": true
   },
   "outputs": [
    {
     "name": "stdout",
     "output_type": "stream",
     "text": [
      "Control In!\n",
      "Knockdown In!\n",
      "WT In!\n",
      "EA In!\n"
     ]
    }
   ],
   "source": [
    "#read tail files into a pd dataframe\n",
    "import imp\n",
    "imp.reload(tools)\n",
    "folderLoc = \"C:\\\\Users\\\\tlsha\\\\Dropbox\\\\NoctData\\\\\"\n",
    "controlName = \"siLuc.tails\"\n",
    "KDname = \"siNoct.tails\"\n",
    "WTname = \"NoctWT.tails\"\n",
    "EAname = \"NoctEA.tails\"\n",
    "\n",
    "control = tools.pdTailMaker(folderLoc+controlName)\n",
    "print('Control In!')\n",
    "knockdown = tools.pdTailMaker(folderLoc+KDname)\n",
    "print('Knockdown In!')\n",
    "WTaddback = tools.pdTailMaker(folderLoc+WTname)\n",
    "print('WT In!')\n",
    "EAaddback = tools.pdTailMaker(folderLoc+EAname)\n",
    "print('EA In!')\n"
   ]
  },
  {
   "cell_type": "code",
   "execution_count": 15,
   "metadata": {},
   "outputs": [
    {
     "name": "stdout",
     "output_type": "stream",
     "text": [
      "CONTROL\n",
      "Initial: 3903782\n",
      "Filtered: 1351776\n",
      "\n",
      "KNOCKDOWN\n",
      "Initial: 4621080\n",
      "Filtered: 1324006\n",
      "\n",
      "WT\n",
      "Initial: 2411894\n",
      "Filtered: 759185\n",
      "\n",
      "EA\n",
      "Initial: 2579469\n",
      "Filtered: 779416\n",
      "\n"
     ]
    },
    {
     "data": {
      "text/html": [
       "<div>\n",
       "<style>\n",
       "    .dataframe thead tr:only-child th {\n",
       "        text-align: right;\n",
       "    }\n",
       "\n",
       "    .dataframe thead th {\n",
       "        text-align: left;\n",
       "    }\n",
       "\n",
       "    .dataframe tbody tr th {\n",
       "        vertical-align: top;\n",
       "    }\n",
       "</style>\n",
       "<table border=\"1\" class=\"dataframe\">\n",
       "  <thead>\n",
       "    <tr style=\"text-align: right;\">\n",
       "      <th></th>\n",
       "      <th>3Loc</th>\n",
       "      <th>TailLength</th>\n",
       "      <th>TailSeq</th>\n",
       "      <th>Type</th>\n",
       "      <th>Source</th>\n",
       "      <th>TotalTail</th>\n",
       "    </tr>\n",
       "    <tr>\n",
       "      <th>Gene</th>\n",
       "      <th></th>\n",
       "      <th></th>\n",
       "      <th></th>\n",
       "      <th></th>\n",
       "      <th></th>\n",
       "      <th></th>\n",
       "    </tr>\n",
       "  </thead>\n",
       "  <tbody>\n",
       "    <tr>\n",
       "      <th>RNU1-28P-201|snRNA</th>\n",
       "      <td>0.0</td>\n",
       "      <td>0.0</td>\n",
       "      <td></td>\n",
       "      <td>snRNA</td>\n",
       "      <td>siLuc</td>\n",
       "      <td>0.0</td>\n",
       "    </tr>\n",
       "    <tr>\n",
       "      <th>RNU1-28P-201|snRNA</th>\n",
       "      <td>0.0</td>\n",
       "      <td>0.0</td>\n",
       "      <td></td>\n",
       "      <td>snRNA</td>\n",
       "      <td>siLuc</td>\n",
       "      <td>0.0</td>\n",
       "    </tr>\n",
       "    <tr>\n",
       "      <th>RNU1-28P-201|snRNA</th>\n",
       "      <td>0.0</td>\n",
       "      <td>0.0</td>\n",
       "      <td></td>\n",
       "      <td>snRNA</td>\n",
       "      <td>siLuc</td>\n",
       "      <td>0.0</td>\n",
       "    </tr>\n",
       "    <tr>\n",
       "      <th>RNU1-28P-201|snRNA</th>\n",
       "      <td>0.0</td>\n",
       "      <td>0.0</td>\n",
       "      <td></td>\n",
       "      <td>snRNA</td>\n",
       "      <td>siLuc</td>\n",
       "      <td>0.0</td>\n",
       "    </tr>\n",
       "    <tr>\n",
       "      <th>RNU1-28P-201|snRNA</th>\n",
       "      <td>0.0</td>\n",
       "      <td>0.0</td>\n",
       "      <td></td>\n",
       "      <td>snRNA</td>\n",
       "      <td>siLuc</td>\n",
       "      <td>0.0</td>\n",
       "    </tr>\n",
       "  </tbody>\n",
       "</table>\n",
       "</div>"
      ],
      "text/plain": [
       "                    3Loc  TailLength TailSeq   Type Source  TotalTail\n",
       "Gene                                                                 \n",
       "RNU1-28P-201|snRNA   0.0         0.0          snRNA  siLuc        0.0\n",
       "RNU1-28P-201|snRNA   0.0         0.0          snRNA  siLuc        0.0\n",
       "RNU1-28P-201|snRNA   0.0         0.0          snRNA  siLuc        0.0\n",
       "RNU1-28P-201|snRNA   0.0         0.0          snRNA  siLuc        0.0\n",
       "RNU1-28P-201|snRNA   0.0         0.0          snRNA  siLuc        0.0"
      ]
     },
     "execution_count": 15,
     "metadata": {},
     "output_type": "execute_result"
    }
   ],
   "source": [
    "# Filter and combine tail data\n",
    "minTail = -10\n",
    "maxTail = 10\n",
    "filtControl = control[(control['3Loc']+control['TailLength'])>=minTail]\n",
    "filtControl = filtControl[(filtControl['3Loc']+filtControl['TailLength'])<=maxTail]\n",
    "filtControl['Source'] = 'siLuc'\n",
    "\n",
    "filtKD = knockdown[(knockdown['3Loc']+knockdown['TailLength'])>=minTail]\n",
    "filtKD = filtKD[(filtKD['3Loc']+filtKD['TailLength'])<=maxTail]\n",
    "filtKD['Source'] = 'siNoct'\n",
    "\n",
    "filtWT = WTaddback[(WTaddback['3Loc']+WTaddback['TailLength'])>=minTail]\n",
    "filtWT = filtWT[(filtWT['3Loc']+filtWT['TailLength'])<=maxTail]\n",
    "filtWT['Source'] = 'WT Addback'\n",
    "\n",
    "filtEA = EAaddback[(EAaddback['3Loc']+EAaddback['TailLength'])>=minTail]\n",
    "filtEA = filtEA[(filtEA['3Loc']+filtEA['TailLength'])<=maxTail]\n",
    "filtEA['Source'] = 'EA Addback'\n",
    "\n",
    "# Combined experimental data\n",
    "combo = pd.concat([filtControl,filtKD,filtWT,filtEA],ignore_index=True)\n",
    "combo['TotalTail'] = combo['3Loc'] + combo['TailLength']\n",
    "\n",
    "print (\"CONTROL\\nInitial: {}\\nFiltered: {}\\n\".format(len(control),len(filtControl)))\n",
    "print (\"KNOCKDOWN\\nInitial: {}\\nFiltered: {}\\n\".format(len(knockdown),len(filtKD)))\n",
    "print (\"WT\\nInitial: {}\\nFiltered: {}\\n\".format(len(WTaddback),len(filtWT)))\n",
    "print (\"EA\\nInitial: {}\\nFiltered: {}\\n\".format(len(EAaddback),len(filtEA)))\n",
    "combo.set_index('Gene', inplace=True)\n",
    "\n",
    "combo.head()"
   ]
  },
  {
   "cell_type": "code",
   "execution_count": 34,
   "metadata": {
    "scrolled": true
   },
   "outputs": [
    {
     "name": "stdout",
     "output_type": "stream",
     "text": [
      "0.0\n",
      "0.09643201542912247\n",
      "0.19286403085824494\n",
      "0.2892960462873674\n",
      "0.3857280617164899\n",
      "0.4821600771456123\n",
      "0.5785920925747348\n",
      "0.6750241080038573\n",
      "0.7714561234329798\n",
      "0.8678881388621023\n",
      "0.9643201542912246\n",
      "0.0\n",
      "0.09233610341643583\n",
      "0.18467220683287167\n",
      "0.2770083102493075\n",
      "0.36934441366574333\n",
      "0.4616805170821791\n",
      "0.554016620498615\n",
      "0.6463527239150508\n",
      "0.7386888273314867\n",
      "0.8310249307479224\n",
      "0.9233610341643582\n",
      "0.0\n",
      "0.1124859392575928\n",
      "0.2249718785151856\n",
      "0.3374578177727784\n",
      "0.4499437570303712\n",
      "0.562429696287964\n",
      "0.6749156355455568\n",
      "0.7874015748031497\n",
      "0.8998875140607424\n",
      "0.0\n",
      "0.10504201680672269\n",
      "0.21008403361344538\n",
      "0.31512605042016806\n",
      "0.42016806722689076\n",
      "0.5252100840336135\n",
      "0.6302521008403361\n",
      "0.7352941176470589\n",
      "0.8403361344537815\n",
      "0.9453781512605042\n"
     ]
    }
   ],
   "source": [
    "def TPMmaker(df, source, totalReads):\n",
    "    df = df.set_index('Gene')\n",
    "    df.head()\n",
    "    names = set(df.index)\n",
    "    out = []\n",
    "    # 'Gene', 'Source', 'Count', 'TPM'\n",
    "    i = 0\n",
    "    for name in names:\n",
    "        if i%100 ==0: print(i/len(names))\n",
    "        i+=1\n",
    "        out.append([name,\n",
    "                    source,\n",
    "                    len(df.loc[[name]]),\n",
    "                    len(df.loc[[name]])/(totalReads/1000000)])\n",
    "    return pd.DataFrame(out, columns = [\"Gene\",'Source','Count','TPM'])\n",
    "\n",
    "TPM = pd.concat([TPMmaker(filtControl,\"Control\",len(control)),\n",
    "           TPMmaker(filtKD, \"siNoct\", len(knockdown)),\n",
    "           TPMmaker(filtWT,\"WT Addback\",len(WTaddback)),\n",
    "           TPMmaker(filtEA, \"EA Addback\", len(EAaddback))],\n",
    "          ignore_index=True)"
   ]
  },
  {
   "cell_type": "code",
   "execution_count": 91,
   "metadata": {},
   "outputs": [
    {
     "data": {
      "text/plain": [
       "(array([ 0,  1,  2,  3,  4,  5,  6,  7,  8,  9, 10, 11, 12, 13, 14, 15, 16,\n",
       "        17, 18, 19, 20, 21]), <a list of 22 Text xticklabel objects>)"
      ]
     },
     "execution_count": 91,
     "metadata": {},
     "output_type": "execute_result"
    },
    {
     "data": {
      "image/png": "[encoded data removed]",
      "text/plain": [
       "<matplotlib.figure.Figure at 0x18dffa7c780>"
      ]
     },
     "metadata": {},
     "output_type": "display_data"
    }
   ],
   "source": [
    "temp = TPM.reset_index()\n",
    "temp = temp[temp['Gene'].str.contains(\"Mt_tRNA\")]\n",
    "x = [\"A\",\"B\",\"C\",\"D\"]\n",
    "sns.barplot(x=\"Gene\",y=\"TPM\",data=temp.reset_index(),hue=\"Source\")\n",
    "\n",
    "plt.xticks(rotation=-45)\n",
    "\n",
    "#TPM[TPM['Source']=='WT Addback']"
   ]
  },
  {
   "cell_type": "code",
   "execution_count": null,
   "metadata": {},
   "outputs": [],
   "source": [
    "values = filtControl['Type'].value_counts()\n",
    "df1=pd.DataFrame(data=values)\n",
    "df1['Source'] = 'Control'\n",
    "df1=df1.assign(Percentage=df1['Type']/df1['Type'].sum())\n",
    "\n",
    "values = filtKD['Type'].value_counts()\n",
    "df2=pd.DataFrame(values)\n",
    "df2['Source'] = 'Knockdown'\n",
    "df2=df2.assign(Percentage=df2['Type']/df2['Type'].sum())\n",
    "\n",
    "values = filtWT['Type'].value_counts()\n",
    "df3=pd.DataFrame(values)\n",
    "df3['Source'] = 'WT Addback'\n",
    "df3=df3.assign(Percentage=df3['Type']/df3['Type'].sum())\n",
    "\n",
    "values = filtEA['Type'].value_counts()\n",
    "df4=pd.DataFrame(values[:-1])\n",
    "df4['Source'] = 'EA Addback'\n",
    "df4=df4.assign(Percentage=df4['Type']/df4['Type'].sum())"
   ]
  },
  {
   "cell_type": "code",
   "execution_count": null,
   "metadata": {},
   "outputs": [],
   "source": [
    "#Find a better way to represent this data\n",
    "f, axarr = plt.subplots(2,2, figsize=(13,13))\n",
    "axarr[0,0].set_title(\"siLuc\")\n",
    "axarr[0,1].set_title(\"siNoct\")\n",
    "axarr[1,0].set_title(\"WT Addback\")\n",
    "axarr[1,1].set_title(\"EA Addback\")\n",
    "\n",
    "filtControl['Type'].value_counts().plot(kind='pie',ax=axarr[0,0])\n",
    "filtKD['Type'].value_counts().plot(kind='pie',ax=axarr[0,1])\n",
    "filtWT['Type'].value_counts().plot(kind='pie', ax=axarr[1,0])\n",
    "filtEA['Type'].value_counts().plot(kind='pie',ax=axarr[1,1])"
   ]
  },
  {
   "cell_type": "code",
   "execution_count": null,
   "metadata": {},
   "outputs": [],
   "source": [
    "df = pd.read_csv(folderLoc+\"NoctVsWT_candidates.csv\",index_col=False)\n",
    "df.head(10)"
   ]
  },
  {
   "cell_type": "code",
   "execution_count": null,
   "metadata": {},
   "outputs": [],
   "source": [
    "df = filtControl[filtControl['Gene'].str.contains('Mt_tRNA')]"
   ]
  },
  {
   "cell_type": "code",
   "execution_count": null,
   "metadata": {},
   "outputs": [],
   "source": [
    "plt.figure(figsize=(20,20))\n",
    "df = filtControl[filtControl['Gene'].str.contains('Mt_tRNA')]\n",
    "values, base = np.histogram(df['3Loc']+df['TailLength'], bins=20, normed=True)\n",
    "cumulative = np.cumsum(values)\n",
    "plt.step(base[:-1], cumulative, c='blue')\n",
    "\n",
    "df = filtKD[filtKD['Gene'].str.contains('Mt_tRNA')]\n",
    "values, base = np.histogram(df['3Loc']+df['TailLength'], bins=20, normed=True)\n",
    "cumulative = np.cumsum(values)\n",
    "plt.step(base[:-1], cumulative, c='green')\n",
    "\n",
    "df = filtWT[filtWT['Gene'].str.contains('Mt_tRNA')]\n",
    "values, base = np.histogram(df['3Loc']+df['TailLength'], bins=20, normed=True)\n",
    "cumulative = np.cumsum(values)\n",
    "plt.step(base[:-1], cumulative, c='red')\n",
    "\n",
    "df = filtEA[filtEA['Gene'].str.contains('Mt_tRNA')]\n",
    "values, base = np.histogram(df['3Loc']+df['TailLength'], bins=20, normed=True)\n",
    "cumulative = np.cumsum(values)\n",
    "plt.step(base[:-1], cumulative, c='yellow')\n",
    "\n",
    "#Cumulative plot of mitochondrial tRNA lengths"
   ]
  },
  {
   "cell_type": "code",
   "execution_count": null,
   "metadata": {},
   "outputs": [],
   "source": [
    "plt.figure(figsize=(20,20))\n",
    "df = filtControl[filtControl['Gene'].str.contains('gtRNA')]\n",
    "values, base = np.histogram(df['3Loc']+df['TailLength'], bins=20, normed=True)\n",
    "cumulative = np.cumsum(values)\n",
    "plt.step(base[:-1], cumulative, c='blue')\n",
    "\n",
    "df = filtKD[filtKD['Gene'].str.contains('gtRNA')]\n",
    "values, base = np.histogram(df['3Loc']+df['TailLength'], bins=20, normed=True)\n",
    "cumulative = np.cumsum(values)\n",
    "plt.step(base[:-1], cumulative, c='green')\n",
    "\n",
    "df = filtWT[filtWT['Gene'].str.contains('gtRNA')]\n",
    "values, base = np.histogram(df['3Loc']+df['TailLength'], bins=20, normed=True)\n",
    "cumulative = np.cumsum(values)\n",
    "plt.step(base[:-1], cumulative, c='red')\n",
    "\n",
    "df = filtEA[filtEA['Gene'].str.contains('gtRNA')]\n",
    "values, base = np.histogram(df['3Loc']+df['TailLength'], bins=20, normed=True)\n",
    "cumulative = np.cumsum(values)\n",
    "plt.step(base[:-1], cumulative, c='yellow')\n",
    "\n",
    "#cumulative plots of tRNA"
   ]
  },
  {
   "cell_type": "code",
   "execution_count": null,
   "metadata": {
    "collapsed": true
   },
   "outputs": [],
   "source": [
    "df1 = filtControl[filtControl['Gene'].str.contains('gtRNA')]\n",
    "df2 = filtKD[filtKD['Gene'].str.contains('gtRNA')]\n",
    "df3 = filtWT[filtWT['Gene'].str.contains('gtRNA')]\n",
    "df4 = filtEA[filtEA['Gene'].str.contains('gtRNA')]\n"
   ]
  },
  {
   "cell_type": "code",
   "execution_count": null,
   "metadata": {},
   "outputs": [],
   "source": [
    "#TPM Calculations\n",
    "df1 = filtControl[filtControl['Gene'].str.contains('tRNA')]\n",
    "TPM1 = pd.DataFrame(df1['Gene'].value_counts()).rename(columns={'Gene':'Count'})\n",
    "TPM1['Source'] = 'Control'\n",
    "TPM1['TPM'] = TPM1['Count']/(len(filtControl)/1000000)\n",
    "\n",
    "df2 = filtKD[filtKD['Gene'].str.contains('tRNA')]\n",
    "TPM2 = pd.DataFrame(df2['Gene'].value_counts()).rename(columns={'Gene':'Count'})\n",
    "TPM2['Source'] = 'siNoct'\n",
    "TPM2['TPM'] = TPM2['Count']/(len(filtKD)/1000000)\n",
    "\n",
    "df3 = filtWT[filtWT['Gene'].str.contains('tRNA')]\n",
    "TPM3 = pd.DataFrame(df3['Gene'].value_counts()).rename(columns={'Gene':'Count'})\n",
    "TPM3['Source'] = 'WT Addback'\n",
    "TPM3['TPM'] = TPM3['Count']/(len(filtWT)/1000000)\n",
    "\n",
    "df4 = filtEA[filtEA['Gene'].str.contains('tRNA')]\n",
    "TPM4 = pd.DataFrame(df4['Gene'].value_counts()).rename(columns={'Gene':'Count'})\n",
    "TPM4['Source'] = 'EA Addback'\n",
    "TPM4['TPM'] = TPM4['Count']/(len(filtEA)/1000000)\n",
    "\n",
    "\n",
    "dude = pd.concat([TPM1,TPM2,TPM3,TPM4])\n",
    "ind = dude.index[:5]\n",
    "dude=dude.ix[ind]\n",
    "dude"
   ]
  },
  {
   "cell_type": "code",
   "execution_count": null,
   "metadata": {},
   "outputs": [],
   "source": [
    "plt.figure(figsize=(20,20))\n",
    "sns.barplot(dude.index,dude.TPM,data=dude,hue='Source')\n",
    "plt.xticks(rotation=-90)\n"
   ]
  },
  {
   "cell_type": "code",
   "execution_count": null,
   "metadata": {},
   "outputs": [],
   "source": [
    "sns.barplot?"
   ]
  },
  {
   "cell_type": "code",
   "execution_count": null,
   "metadata": {
    "collapsed": true
   },
   "outputs": [],
   "source": [
    "pd.DataFrame?"
   ]
  },
  {
   "cell_type": "code",
   "execution_count": null,
   "metadata": {},
   "outputs": [],
   "source": [
    "pd.DataFrame.loc?"
   ]
  },
  {
   "cell_type": "code",
   "execution_count": null,
   "metadata": {
    "collapsed": true
   },
   "outputs": [],
   "source": []
  }
 ],
 "metadata": {
  "kernelspec": {
   "display_name": "Python 3",
   "language": "python",
   "name": "python3"
  },
  "language_info": {
   "codemirror_mode": {
    "name": "ipython",
    "version": 3
   },
   "file_extension": ".py",
   "mimetype": "text/x-python",
   "name": "python",
   "nbconvert_exporter": "python",
   "pygments_lexer": "ipython3",
   "version": "3.6.1"
  }
 },
 "nbformat": 4,
 "nbformat_minor": 1
}
