{
 "cells": [
  {
   "cell_type": "code",
   "execution_count": 1,
   "metadata": {},
   "outputs": [],
   "source": [
    "import sys\n",
    "\n",
    "moduleLoc = \"C:\\\\Users\\\\tlsha\\\\PycharmProjects\\\\another-seq\"\n",
    "if moduleLoc in sys.path: \n",
    "    print('woo')\n",
    "else:\n",
    "    sys.path.append(moduleLoc)\n",
    "import matplotlib.pyplot as plt\n",
    "import tools\n",
    "import pandas as pd\n",
    "import seaborn as sns\n",
    "import numpy as np\n",
    "\n",
    "# Enable inline plotting\n",
    "%matplotlib inline"
   ]
  },
  {
   "cell_type": "code",
   "execution_count": 2,
   "metadata": {
    "scrolled": true
   },
   "outputs": [
    {
     "name": "stdout",
     "output_type": "stream",
     "text": [
      "Control In!\n",
      "Knockdown In!\n",
      "WT In!\n",
      "EA In!\n"
     ]
    }
   ],
   "source": [
    "#read tail files into a pd dataframe\n",
    "import imp\n",
    "imp.reload(tools)\n",
    "folderLoc = \"C:\\\\Users\\\\tlsha\\\\Dropbox\\\\NoctData\\\\\"\n",
    "controlName = \"siLuc.tails\"\n",
    "KDname = \"siNoct.tails\"\n",
    "WTname = \"NoctWT.tails\"\n",
    "EAname = \"NoctEA.tails\"\n",
    "\n",
    "control = tools.pdTailMaker(folderLoc+controlName)\n",
    "print('Control In!')\n",
    "knockdown = tools.pdTailMaker(folderLoc+KDname)\n",
    "print('Knockdown In!')\n",
    "WTaddback = tools.pdTailMaker(folderLoc+WTname)\n",
    "print('WT In!')\n",
    "EAaddback = tools.pdTailMaker(folderLoc+EAname)\n",
    "print('EA In!')\n"
   ]
  },
  {
   "cell_type": "code",
   "execution_count": 3,
   "metadata": {},
   "outputs": [
    {
     "name": "stdout",
     "output_type": "stream",
     "text": [
      "CONTROL\n",
      "Initial: 3903782\n",
      "Filtered: 1351776\n",
      "\n",
      "KNOCKDOWN\n",
      "Initial: 4621080\n",
      "Filtered: 1324006\n",
      "\n",
      "WT\n",
      "Initial: 2411894\n",
      "Filtered: 759185\n",
      "\n",
      "EA\n",
      "Initial: 2579469\n",
      "Filtered: 779416\n",
      "\n"
     ]
    },
    {
     "data": {
      "text/html": [
       "<div>\n",
       "<style>\n",
       "    .dataframe thead tr:only-child th {\n",
       "        text-align: right;\n",
       "    }\n",
       "\n",
       "    .dataframe thead th {\n",
       "        text-align: left;\n",
       "    }\n",
       "\n",
       "    .dataframe tbody tr th {\n",
       "        vertical-align: top;\n",
       "    }\n",
       "</style>\n",
       "<table border=\"1\" class=\"dataframe\">\n",
       "  <thead>\n",
       "    <tr style=\"text-align: right;\">\n",
       "      <th></th>\n",
       "      <th>3Loc</th>\n",
       "      <th>TailLength</th>\n",
       "      <th>TailSeq</th>\n",
       "      <th>Type</th>\n",
       "      <th>Source</th>\n",
       "      <th>TotalTail</th>\n",
       "    </tr>\n",
       "    <tr>\n",
       "      <th>Gene</th>\n",
       "      <th></th>\n",
       "      <th></th>\n",
       "      <th></th>\n",
       "      <th></th>\n",
       "      <th></th>\n",
       "      <th></th>\n",
       "    </tr>\n",
       "  </thead>\n",
       "  <tbody>\n",
       "    <tr>\n",
       "      <th>RNU1-28P-201</th>\n",
       "      <td>0.0</td>\n",
       "      <td>0.0</td>\n",
       "      <td></td>\n",
       "      <td>snRNA</td>\n",
       "      <td>siLuc</td>\n",
       "      <td>0.0</td>\n",
       "    </tr>\n",
       "    <tr>\n",
       "      <th>RNU1-28P-201</th>\n",
       "      <td>0.0</td>\n",
       "      <td>0.0</td>\n",
       "      <td></td>\n",
       "      <td>snRNA</td>\n",
       "      <td>siLuc</td>\n",
       "      <td>0.0</td>\n",
       "    </tr>\n",
       "    <tr>\n",
       "      <th>RNU1-28P-201</th>\n",
       "      <td>0.0</td>\n",
       "      <td>0.0</td>\n",
       "      <td></td>\n",
       "      <td>snRNA</td>\n",
       "      <td>siLuc</td>\n",
       "      <td>0.0</td>\n",
       "    </tr>\n",
       "    <tr>\n",
       "      <th>RNU1-28P-201</th>\n",
       "      <td>0.0</td>\n",
       "      <td>0.0</td>\n",
       "      <td></td>\n",
       "      <td>snRNA</td>\n",
       "      <td>siLuc</td>\n",
       "      <td>0.0</td>\n",
       "    </tr>\n",
       "    <tr>\n",
       "      <th>RNU1-28P-201</th>\n",
       "      <td>0.0</td>\n",
       "      <td>0.0</td>\n",
       "      <td></td>\n",
       "      <td>snRNA</td>\n",
       "      <td>siLuc</td>\n",
       "      <td>0.0</td>\n",
       "    </tr>\n",
       "  </tbody>\n",
       "</table>\n",
       "</div>"
      ],
      "text/plain": [
       "              3Loc  TailLength TailSeq   Type Source  TotalTail\n",
       "Gene                                                           \n",
       "RNU1-28P-201   0.0         0.0          snRNA  siLuc        0.0\n",
       "RNU1-28P-201   0.0         0.0          snRNA  siLuc        0.0\n",
       "RNU1-28P-201   0.0         0.0          snRNA  siLuc        0.0\n",
       "RNU1-28P-201   0.0         0.0          snRNA  siLuc        0.0\n",
       "RNU1-28P-201   0.0         0.0          snRNA  siLuc        0.0"
      ]
     },
     "execution_count": 3,
     "metadata": {},
     "output_type": "execute_result"
    }
   ],
   "source": [
    "# Filter and combine tail data\n",
    "minTail = -10\n",
    "maxTail = 10\n",
    "filtControl = control[(control['3Loc']+control['TailLength'])>=minTail]\n",
    "filtControl = filtControl[(filtControl['3Loc']+filtControl['TailLength'])<=maxTail]\n",
    "filtControl['Source'] = 'siLuc'\n",
    "\n",
    "filtKD = knockdown[(knockdown['3Loc']+knockdown['TailLength'])>=minTail]\n",
    "filtKD = filtKD[(filtKD['3Loc']+filtKD['TailLength'])<=maxTail]\n",
    "filtKD['Source'] = 'siNoct'\n",
    "\n",
    "filtWT = WTaddback[(WTaddback['3Loc']+WTaddback['TailLength'])>=minTail]\n",
    "filtWT = filtWT[(filtWT['3Loc']+filtWT['TailLength'])<=maxTail]\n",
    "filtWT['Source'] = 'WT Addback'\n",
    "\n",
    "filtEA = EAaddback[(EAaddback['3Loc']+EAaddback['TailLength'])>=minTail]\n",
    "filtEA = filtEA[(filtEA['3Loc']+filtEA['TailLength'])<=maxTail]\n",
    "filtEA['Source'] = 'EA Addback'\n",
    "\n",
    "# Combined experimental data\n",
    "combo = pd.concat([filtControl,filtKD,filtWT,filtEA],ignore_index=True)\n",
    "combo['TotalTail'] = combo['3Loc'] + combo['TailLength']\n",
    "\n",
    "print (\"CONTROL\\nInitial: {}\\nFiltered: {}\\n\".format(len(control),len(filtControl)))\n",
    "print (\"KNOCKDOWN\\nInitial: {}\\nFiltered: {}\\n\".format(len(knockdown),len(filtKD)))\n",
    "print (\"WT\\nInitial: {}\\nFiltered: {}\\n\".format(len(WTaddback),len(filtWT)))\n",
    "print (\"EA\\nInitial: {}\\nFiltered: {}\\n\".format(len(EAaddback),len(filtEA)))\n",
    "combo.set_index('Gene', inplace=True)\n",
    "combo.to_csv('combo.csv')\n",
    "\n",
    "combo.head()"
   ]
  },
  {
   "cell_type": "code",
   "execution_count": 92,
   "metadata": {},
   "outputs": [
    {
     "data": {
      "text/plain": [
       "<matplotlib.axes._subplots.AxesSubplot at 0x1d5c1ad90f0>"
      ]
     },
     "execution_count": 92,
     "metadata": {},
     "output_type": "execute_result"
    },
    {
     "data": {
      "image/png": "[encoded data removed]",
      "text/plain": [
       "<matplotlib.figure.Figure at 0x1d5f65941d0>"
      ]
     },
     "metadata": {},
     "output_type": "display_data"
    }
   ],
   "source": [
    "#Find a better way to represent this data\n",
    "f, axarr = plt.subplots(2,2, figsize=(12,12), )\n",
    "axarr[0,0].set_title(\"siLuc\")\n",
    "axarr[0,1].set_title(\"siNoct\")\n",
    "axarr[1,0].set_title(\"WT Addback\")\n",
    "axarr[1,1].set_title(\"EA Addback\")\n",
    "\n",
    "filtControl['Type'].value_counts().plot(kind='pie',ax=axarr[0,0])\n",
    "filtKD['Type'].value_counts().plot(kind='pie',ax=axarr[0,1])\n",
    "filtWT['Type'].value_counts().plot(kind='pie', ax=axarr[1,0])\n",
    "filtEA['Type'].value_counts().plot(kind='pie',ax=axarr[1,1])"
   ]
  },
  {
   "cell_type": "code",
   "execution_count": 93,
   "metadata": {
    "scrolled": true
   },
   "outputs": [
    {
     "name": "stdout",
     "output_type": "stream",
     "text": [
      "siLuc finished.\n",
      "siNoct finished.\n",
      "WT Addback finished.\n",
      "EA Addback finished.\n"
     ]
    }
   ],
   "source": [
    "def TPMmaker(df, source, totalReads):\n",
    "    df = df.set_index('Gene')\n",
    "    df.head()\n",
    "    names = set(df.index)\n",
    "    out = []\n",
    "    # 'Gene', 'Source', 'Count', 'TPM'\n",
    "    for name in names:\n",
    "        out.append([name,\n",
    "                    source,\n",
    "                    df.loc[[name]]['Type'].values[0],\n",
    "                    len(df.loc[[name]]),\n",
    "                    len(df.loc[[name]])/(totalReads/1000000)])\n",
    "    print(source + \" finished.\")\n",
    "    return pd.DataFrame(out, columns = [\"Gene\",'Type','Source','Count','TPM'])\n",
    "\n",
    "TPM = pd.concat([TPMmaker(filtControl,\"siLuc\",len(control)),\n",
    "           TPMmaker(filtKD, \"siNoct\", len(knockdown)),\n",
    "           TPMmaker(filtWT,\"WT Addback\",len(WTaddback)),\n",
    "           TPMmaker(filtEA, \"EA Addback\", len(EAaddback))],\n",
    "          ignore_index=True)\n",
    "\n",
    "TPM.to_csv('TPM.csv')"
   ]
  },
  {
   "cell_type": "code",
   "execution_count": 94,
   "metadata": {},
   "outputs": [],
   "source": [
    "# Can read in from saved CSVs\n",
    "TPM = pd.read_csv('TPM.csv',index_col=0)\n",
    "combo = pd.read_csv('combo.csv',index_col=0)\n"
   ]
  },
  {
   "cell_type": "code",
   "execution_count": 65,
   "metadata": {},
   "outputs": [],
   "source": [
    "#Find candidates using TPM, saves candidates based on a maturation hypothesis and a decay hypothesis\n",
    "matCans = []\n",
    "decayCans = []\n",
    "names = list(set(TPM['Gene']))\n",
    "df1 = TPM[TPM['Source']=='siLuc']\n",
    "df2 = TPM[TPM['Source']=='siNoct']\n",
    "df3 = TPM[TPM['Source']=='WT Addback']\n",
    "df4 = TPM[TPM['Source']=='EA Addback']\n",
    "\n",
    "for name in names:\n",
    "    try:\n",
    "        siLuc = (df1[df1['Gene']==name]['TPM']).values[0]\n",
    "        siNoct = (df2[df2['Gene']==name]['TPM']).values[0]\n",
    "        WT = (df3[df3['Gene']==name]['TPM']).values[0]\n",
    "        EA = (df4[df4['Gene']==name]['TPM']).values[0]\n",
    "    except:\n",
    "        continue\n",
    "    \n",
    "    #Changes in TPM preicted by different models\n",
    "    if siLuc > siNoct and siLuc > EA and siNoct < WT and WT > EA: matCans.append([name,siLuc,siNoct,WT,EA])\n",
    "    if siLuc < siNoct and siLuc < EA and siNoct > WT and WT < EA: decayCans.append([name,siLuc,siNoct,WT,EA])\n",
    "        \n",
    "pd.DataFrame(matCans, columns=['Gene','siLuc','siNoct','WT','EA']).to_csv('Maturation_Candidates.csv')\n",
    "pd.DataFrame(decayCans, columns=['Gene','siLuc','siNoct','WT','EA']).to_csv('Decay_Candidates.csv')"
   ]
  },
  {
   "cell_type": "code",
   "execution_count": null,
   "metadata": {
    "collapsed": true
   },
   "outputs": [],
   "source": [
    "df = pd.read_csv(folderLoc+\"NoctVsWT_candidates.csv\",index_col=False)\n",
    "df.head(10)"
   ]
  },
  {
   "cell_type": "code",
   "execution_count": null,
   "metadata": {
    "collapsed": true
   },
   "outputs": [],
   "source": [
    "df = filtControl[filtControl['Gene'].str.contains('Mt_tRNA')]"
   ]
  },
  {
   "cell_type": "code",
   "execution_count": null,
   "metadata": {
    "collapsed": true
   },
   "outputs": [],
   "source": [
    "plt.figure(figsize=(20,20))\n",
    "df = filtControl[filtControl['Gene'].str.contains('Mt_tRNA')]\n",
    "values, base = np.histogram(df['3Loc']+df['TailLength'], bins=20, normed=True)\n",
    "cumulative = np.cumsum(values)\n",
    "plt.step(base[:-1], cumulative, c='blue')\n",
    "\n",
    "df = filtKD[filtKD['Gene'].str.contains('Mt_tRNA')]\n",
    "values, base = np.histogram(df['3Loc']+df['TailLength'], bins=20, normed=True)\n",
    "cumulative = np.cumsum(values)\n",
    "plt.step(base[:-1], cumulative, c='green')\n",
    "\n",
    "df = filtWT[filtWT['Gene'].str.contains('Mt_tRNA')]\n",
    "values, base = np.histogram(df['3Loc']+df['TailLength'], bins=20, normed=True)\n",
    "cumulative = np.cumsum(values)\n",
    "plt.step(base[:-1], cumulative, c='red')\n",
    "\n",
    "df = filtEA[filtEA['Gene'].str.contains('Mt_tRNA')]\n",
    "values, base = np.histogram(df['3Loc']+df['TailLength'], bins=20, normed=True)\n",
    "cumulative = np.cumsum(values)\n",
    "plt.step(base[:-1], cumulative, c='yellow')\n",
    "\n",
    "#Cumulative plot of mitochondrial tRNA lengths"
   ]
  },
  {
   "cell_type": "code",
   "execution_count": null,
   "metadata": {
    "collapsed": true
   },
   "outputs": [],
   "source": [
    "plt.figure(figsize=(20,20))\n",
    "df = filtControl[filtControl['Gene'].str.contains('gtRNA')]\n",
    "values, base = np.histogram(df['3Loc']+df['TailLength'], bins=20, normed=True)\n",
    "cumulative = np.cumsum(values)\n",
    "plt.step(base[:-1], cumulative, c='blue')\n",
    "\n",
    "df = filtKD[filtKD['Gene'].str.contains('gtRNA')]\n",
    "values, base = np.histogram(df['3Loc']+df['TailLength'], bins=20, normed=True)\n",
    "cumulative = np.cumsum(values)\n",
    "plt.step(base[:-1], cumulative, c='green')\n",
    "\n",
    "df = filtWT[filtWT['Gene'].str.contains('gtRNA')]\n",
    "values, base = np.histogram(df['3Loc']+df['TailLength'], bins=20, normed=True)\n",
    "cumulative = np.cumsum(values)\n",
    "plt.step(base[:-1], cumulative, c='red')\n",
    "\n",
    "df = filtEA[filtEA['Gene'].str.contains('gtRNA')]\n",
    "values, base = np.histogram(df['3Loc']+df['TailLength'], bins=20, normed=True)\n",
    "cumulative = np.cumsum(values)\n",
    "plt.step(base[:-1], cumulative, c='yellow')\n",
    "\n",
    "#cumulative plots of tRNA"
   ]
  },
  {
   "cell_type": "code",
   "execution_count": null,
   "metadata": {
    "collapsed": true
   },
   "outputs": [],
   "source": [
    "df1 = filtControl[filtControl['Gene'].str.contains('gtRNA')]\n",
    "df2 = filtKD[filtKD['Gene'].str.contains('gtRNA')]\n",
    "df3 = filtWT[filtWT['Gene'].str.contains('gtRNA')]\n",
    "df4 = filtEA[filtEA['Gene'].str.contains('gtRNA')]\n"
   ]
  },
  {
   "cell_type": "code",
   "execution_count": null,
   "metadata": {
    "collapsed": true
   },
   "outputs": [],
   "source": [
    "#TPM Calculations\n",
    "df1 = filtControl[filtControl['Gene'].str.contains('tRNA')]\n",
    "TPM1 = pd.DataFrame(df1['Gene'].value_counts()).rename(columns={'Gene':'Count'})\n",
    "TPM1['Source'] = 'Control'\n",
    "TPM1['TPM'] = TPM1['Count']/(len(filtControl)/1000000)\n",
    "\n",
    "df2 = filtKD[filtKD['Gene'].str.contains('tRNA')]\n",
    "TPM2 = pd.DataFrame(df2['Gene'].value_counts()).rename(columns={'Gene':'Count'})\n",
    "TPM2['Source'] = 'siNoct'\n",
    "TPM2['TPM'] = TPM2['Count']/(len(filtKD)/1000000)\n",
    "\n",
    "df3 = filtWT[filtWT['Gene'].str.contains('tRNA')]\n",
    "TPM3 = pd.DataFrame(df3['Gene'].value_counts()).rename(columns={'Gene':'Count'})\n",
    "TPM3['Source'] = 'WT Addback'\n",
    "TPM3['TPM'] = TPM3['Count']/(len(filtWT)/1000000)\n",
    "\n",
    "df4 = filtEA[filtEA['Gene'].str.contains('tRNA')]\n",
    "TPM4 = pd.DataFrame(df4['Gene'].value_counts()).rename(columns={'Gene':'Count'})\n",
    "TPM4['Source'] = 'EA Addback'\n",
    "TPM4['TPM'] = TPM4['Count']/(len(filtEA)/1000000)\n",
    "\n",
    "\n",
    "dude = pd.concat([TPM1,TPM2,TPM3,TPM4])\n",
    "ind = dude.index[:5]\n",
    "dude=dude.ix[ind]\n",
    "dude"
   ]
  },
  {
   "cell_type": "code",
   "execution_count": null,
   "metadata": {
    "collapsed": true
   },
   "outputs": [],
   "source": [
    "plt.figure(figsize=(20,20))\n",
    "sns.barplot(dude.index,dude.TPM,data=dude,hue='Source')\n",
    "plt.xticks(rotation=-90)\n"
   ]
  },
  {
   "cell_type": "code",
   "execution_count": null,
   "metadata": {
    "collapsed": true
   },
   "outputs": [],
   "source": [
    "sns.barplot?"
   ]
  },
  {
   "cell_type": "code",
   "execution_count": null,
   "metadata": {
    "collapsed": true
   },
   "outputs": [],
   "source": [
    "pd.DataFrame?"
   ]
  },
  {
   "cell_type": "code",
   "execution_count": null,
   "metadata": {
    "collapsed": true
   },
   "outputs": [],
   "source": [
    "pd.DataFrame.loc?"
   ]
  },
  {
   "cell_type": "code",
   "execution_count": 95,
   "metadata": {
    "collapsed": true
   },
   "outputs": [],
   "source": [
    "plt.xticks?"
   ]
  },
  {
   "cell_type": "code",
   "execution_count": null,
   "metadata": {
    "collapsed": true
   },
   "outputs": [],
   "source": []
  }
 ],
 "metadata": {
  "kernelspec": {
   "display_name": "Python 3",
   "language": "python",
   "name": "python3"
  },
  "language_info": {
   "codemirror_mode": {
    "name": "ipython",
    "version": 3
   },
   "file_extension": ".py",
   "mimetype": "text/x-python",
   "name": "python",
   "nbconvert_exporter": "python",
   "pygments_lexer": "ipython3",
   "version": "3.6.1"
  }
 },
 "nbformat": 4,
 "nbformat_minor": 1
}
