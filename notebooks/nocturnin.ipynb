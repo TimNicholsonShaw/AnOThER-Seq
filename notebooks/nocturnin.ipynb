{
 "cells": [
  {
   "cell_type": "code",
   "execution_count": 3,
   "metadata": {
    "collapsed": false
   },
   "outputs": [],
   "source": [
    "import sys\n",
    "\n",
    "moduleLoc = \"/Users/Lykke-AndersenLab/PycharmProjects/AnoThER-Seq\"\n",
    "if moduleLoc in sys.path: \n",
    "    print('woo')\n",
    "else:\n",
    "    sys.path.append(moduleLoc)\n",
    "    import matplotlib.pyplot as plt\n",
    "import tools\n",
    "import pandas as pd\n",
    "import matplotlib\n",
    "import seaborn as sns\n",
    "\n",
    "# Enable inline plotting\n",
    "%matplotlib inline"
   ]
  },
  {
   "cell_type": "code",
   "execution_count": 18,
   "metadata": {
    "collapsed": false,
    "scrolled": true
   },
   "outputs": [
    {
     "name": "stdout",
     "output_type": "stream",
     "text": [
      "Dataframes Made\n"
     ]
    }
   ],
   "source": [
    "#read tail files into a pd dataframe\n",
    "import imp\n",
    "imp.reload(tools)\n",
    "folderLoc = \"/Users/Lykke-AndersenLab/Dropbox/NoctData/\"\n",
    "controlName = \"siLuc.tails\"\n",
    "KDname = \"siNoct.tails\"\n",
    "WTname = \"NoctWT.tails\"\n",
    "EAname = \"NoctEA.tails\"\n",
    "\n",
    "control = tools.pdTailMaker(folderLoc+controlName)\n",
    "knockdown = tools.pdTailMaker(folderLoc+KDname)\n",
    "WTaddback = tools.pdTailMaker(folderLoc+WTname)\n",
    "EAaddback = tools.pdTailMaker(folderLoc+EAname)\n",
    "print('Dataframes Made')\n"
   ]
  },
  {
   "cell_type": "code",
   "execution_count": 20,
   "metadata": {
    "collapsed": false
   },
   "outputs": [
    {
     "data": {
      "text/html": [
       "<div>\n",
       "<table border=\"1\" class=\"dataframe\">\n",
       "  <thead>\n",
       "    <tr style=\"text-align: right;\">\n",
       "      <th></th>\n",
       "      <th>Gene</th>\n",
       "      <th>3Loc</th>\n",
       "      <th>TailLength</th>\n",
       "      <th>TailSeq</th>\n",
       "      <th>Type</th>\n",
       "    </tr>\n",
       "  </thead>\n",
       "  <tbody>\n",
       "    <tr>\n",
       "      <th>0</th>\n",
       "      <td>RNU1-28P-201|snRNA</td>\n",
       "      <td>0</td>\n",
       "      <td>0</td>\n",
       "      <td></td>\n",
       "      <td></td>\n",
       "    </tr>\n",
       "    <tr>\n",
       "      <th>1</th>\n",
       "      <td>RNU1-28P-201|snRNA</td>\n",
       "      <td>0</td>\n",
       "      <td>0</td>\n",
       "      <td></td>\n",
       "      <td></td>\n",
       "    </tr>\n",
       "    <tr>\n",
       "      <th>2</th>\n",
       "      <td>RNU1-28P-201|snRNA</td>\n",
       "      <td>0</td>\n",
       "      <td>0</td>\n",
       "      <td></td>\n",
       "      <td></td>\n",
       "    </tr>\n",
       "    <tr>\n",
       "      <th>3</th>\n",
       "      <td>RNU1-28P-201|snRNA</td>\n",
       "      <td>0</td>\n",
       "      <td>0</td>\n",
       "      <td></td>\n",
       "      <td></td>\n",
       "    </tr>\n",
       "    <tr>\n",
       "      <th>4</th>\n",
       "      <td>RNU1-28P-201|snRNA</td>\n",
       "      <td>0</td>\n",
       "      <td>0</td>\n",
       "      <td></td>\n",
       "      <td></td>\n",
       "    </tr>\n",
       "  </tbody>\n",
       "</table>\n",
       "</div>"
      ],
      "text/plain": [
       "                 Gene 3Loc TailLength TailSeq Type\n",
       "0  RNU1-28P-201|snRNA    0          0             \n",
       "1  RNU1-28P-201|snRNA    0          0             \n",
       "2  RNU1-28P-201|snRNA    0          0             \n",
       "3  RNU1-28P-201|snRNA    0          0             \n",
       "4  RNU1-28P-201|snRNA    0          0             "
      ]
     },
     "execution_count": 20,
     "metadata": {},
     "output_type": "execute_result"
    }
   ],
   "source": [
    "control.head()"
   ]
  },
  {
   "cell_type": "code",
   "execution_count": null,
   "metadata": {
    "collapsed": false
   },
   "outputs": [],
   "source": []
  },
  {
   "cell_type": "code",
   "execution_count": null,
   "metadata": {
    "collapsed": true
   },
   "outputs": [],
   "source": []
  }
 ],
 "metadata": {
  "kernelspec": {
   "display_name": "Python 3",
   "language": "python",
   "name": "python3"
  },
  "language_info": {
   "codemirror_mode": {
    "name": "ipython",
    "version": 3
   },
   "file_extension": ".py",
   "mimetype": "text/x-python",
   "name": "python",
   "nbconvert_exporter": "python",
   "pygments_lexer": "ipython3",
   "version": "3.5.1"
  }
 },
 "nbformat": 4,
 "nbformat_minor": 0
}
