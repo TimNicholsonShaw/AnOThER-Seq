{
 "cells": [
  {
   "cell_type": "code",
   "execution_count": null,
   "metadata": {
    "collapsed": true
   },
   "outputs": [],
   "source": [
    "import sys\n",
    "\n",
    "moduleLoc = \"C:\\\\Users\\\\tlsha\\\\PycharmProjects\\\\AnoThER-Seq\"\n",
    "if moduleLoc in sys.path: \n",
    "    print('woo')\n",
    "else:\n",
    "    sys.path.append(moduleLoc)\n",
    "    import matplotlib.pyplot as plt\n",
    "import tools\n",
    "import pandas as pd\n",
    "import matplotlib as plt\n",
    "import seaborn as sns\n",
    "\n",
    "# Enable inline plotting\n",
    "%matplotlib inline"
   ]
  },
  {
   "cell_type": "code",
   "execution_count": null,
   "metadata": {
    "scrolled": true
   },
   "outputs": [
    {
     "name": "stdout",
     "output_type": "stream",
     "text": [
      "Control In!\n",
      "Knockdown In!\n",
      "WT In!\n"
     ]
    }
   ],
   "source": [
    "#read tail files into a pd dataframe\n",
    "import imp\n",
    "imp.reload(tools)\n",
    "folderLoc = \"C:\\\\Users\\\\tlsha\\\\Dropbox\\\\NoctData\\\\\"\n",
    "controlName = \"siLuc.tails\"\n",
    "KDname = \"siNoct.tails\"\n",
    "WTname = \"NoctWT.tails\"\n",
    "EAname = \"NoctEA.tails\"\n",
    "\n",
    "control = tools.pdTailMaker(folderLoc+controlName)\n",
    "print('Control In!')\n",
    "knockdown = tools.pdTailMaker(folderLoc+KDname)\n",
    "print('Knockdown In!')\n",
    "WTaddback = tools.pdTailMaker(folderLoc+WTname)\n",
    "print('WT In!')\n",
    "EAaddback = tools.pdTailMaker(folderLoc+EAname)\n",
    "print('EA In!')\n"
   ]
  },
  {
   "cell_type": "code",
   "execution_count": null,
   "metadata": {},
   "outputs": [],
   "source": [
    "minTail = -10\n",
    "maxTail = 10\n",
    "filtControl = control[(control['3Loc']+control['TailLength'])>=minTail]\n",
    "filtControl = filtControl[(filtControl['3Loc']+filtControl['TailLength'])<=maxTail]\n",
    "filtControl['Source'] = 'siLuc'\n",
    "\n",
    "filtKD = knockdown[(knockdown['3Loc']+knockdown['TailLength'])>=minTail]\n",
    "filtKD = filtKD[(filtKD['3Loc']+filtKD['TailLength'])<=maxTail]\n",
    "filtKD['Source'] = 'siNoct'\n",
    "\n",
    "filtWT = WTaddback[(WTaddback['3Loc']+WTaddback['TailLength'])>=minTail]\n",
    "filtWT = filtWT[(filtWT['3Loc']+filtWT['TailLength'])<=maxTail]\n",
    "filtWT['Source'] = 'WT Addback'\n",
    "\n",
    "filtEA = EAaddback[(EAaddback['3Loc']+EAaddback['TailLength'])>=minTail]\n",
    "filtEA = filtEA[(filtEA['3Loc']+filtEA['TailLength'])<=maxTail]\n",
    "filtEA['Source'] = 'EA Addback'\n",
    "\n",
    "combo = pd.concat([filtControl,filtKD,filtWT,filtEA],ignore_index=True)\n",
    "\n",
    "print (\"CONTROL\\nInitial: {}\\nFiltered: {}\\n\".format(len(control),len(filtControl)))\n",
    "print (\"KNOCKDOWN\\nInitial: {}\\nFiltered: {}\\n\".format(len(knockdown),len(filtKD)))\n",
    "print (\"WT\\nInitial: {}\\nFiltered: {}\\n\".format(len(WTaddback),len(filtWT)))\n",
    "print (\"EA\\nInitial: {}\\nFiltered: {}\\n\".format(len(EAaddback),len(filtEA)))\n",
    "combo.head()"
   ]
  },
  {
   "cell_type": "code",
   "execution_count": null,
   "metadata": {},
   "outputs": [],
   "source": [
    "sns.countplot?"
   ]
  },
  {
   "cell_type": "code",
   "execution_count": null,
   "metadata": {
    "collapsed": true
   },
   "outputs": [],
   "source": [
    "print('wee')"
   ]
  },
  {
   "cell_type": "code",
   "execution_count": null,
   "metadata": {
    "collapsed": true
   },
   "outputs": [],
   "source": []
  }
 ],
 "metadata": {
  "kernelspec": {
   "display_name": "Python 3",
   "language": "python",
   "name": "python3"
  },
  "language_info": {
   "codemirror_mode": {
    "name": "ipython",
    "version": 3
   },
   "file_extension": ".py",
   "mimetype": "text/x-python",
   "name": "python",
   "nbconvert_exporter": "python",
   "pygments_lexer": "ipython3",
   "version": "3.6.1"
  }
 },
 "nbformat": 4,
 "nbformat_minor": 1
}
