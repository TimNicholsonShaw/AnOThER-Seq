{
 "cells": [
  {
   "cell_type": "code",
   "execution_count": 1,
   "metadata": {},
   "outputs": [],
   "source": [
    "import sys\n",
    "\n",
    "moduleLoc = \"C:\\\\Users\\\\tlsha\\\\PycharmProjects\\\\another-seq\"\n",
    "if moduleLoc in sys.path: \n",
    "    print('woo')\n",
    "else:\n",
    "    sys.path.append(moduleLoc)\n",
    "import matplotlib.pyplot as plt\n",
    "import tools\n",
    "import pandas as pd\n",
    "import seaborn as sns\n",
    "import numpy as np\n",
    "\n",
    "# Enable inline plotting\n",
    "%matplotlib inline"
   ]
  },
  {
   "cell_type": "code",
   "execution_count": 2,
   "metadata": {
    "scrolled": true
   },
   "outputs": [
    {
     "name": "stdout",
     "output_type": "stream",
     "text": [
      "Control In!\n",
      "Knockdown In!\n",
      "WT In!\n",
      "EA In!\n"
     ]
    }
   ],
   "source": [
    "#read tail files into a pd dataframe\n",
    "import imp\n",
    "imp.reload(tools)\n",
    "folderLoc = \"C:\\\\Users\\\\tlsha\\\\Dropbox\\\\NoctData\\\\\"\n",
    "controlName = \"siLuc.tails\"\n",
    "KDname = \"siNoct.tails\"\n",
    "WTname = \"NoctWT.tails\"\n",
    "EAname = \"NoctEA.tails\"\n",
    "\n",
    "control = tools.pdTailMaker(folderLoc+controlName)\n",
    "print('Control In!')\n",
    "knockdown = tools.pdTailMaker(folderLoc+KDname)\n",
    "print('Knockdown In!')\n",
    "WTaddback = tools.pdTailMaker(folderLoc+WTname)\n",
    "print('WT In!')\n",
    "EAaddback = tools.pdTailMaker(folderLoc+EAname)\n",
    "print('EA In!')\n"
   ]
  },
  {
   "cell_type": "code",
   "execution_count": 3,
   "metadata": {},
   "outputs": [
    {
     "name": "stdout",
     "output_type": "stream",
     "text": [
      "CONTROL\n",
      "Initial: 3903782\n",
      "Filtered: 1351776\n",
      "\n",
      "KNOCKDOWN\n",
      "Initial: 4621080\n",
      "Filtered: 1324006\n",
      "\n",
      "WT\n",
      "Initial: 2411894\n",
      "Filtered: 759185\n",
      "\n",
      "EA\n",
      "Initial: 2579469\n",
      "Filtered: 779416\n",
      "\n"
     ]
    },
    {
     "data": {
      "text/html": [
       "<div>\n",
       "<style>\n",
       "    .dataframe thead tr:only-child th {\n",
       "        text-align: right;\n",
       "    }\n",
       "\n",
       "    .dataframe thead th {\n",
       "        text-align: left;\n",
       "    }\n",
       "\n",
       "    .dataframe tbody tr th {\n",
       "        vertical-align: top;\n",
       "    }\n",
       "</style>\n",
       "<table border=\"1\" class=\"dataframe\">\n",
       "  <thead>\n",
       "    <tr style=\"text-align: right;\">\n",
       "      <th></th>\n",
       "      <th>3Loc</th>\n",
       "      <th>TailLength</th>\n",
       "      <th>TailSeq</th>\n",
       "      <th>Type</th>\n",
       "      <th>Source</th>\n",
       "      <th>TotalTail</th>\n",
       "    </tr>\n",
       "    <tr>\n",
       "      <th>Gene</th>\n",
       "      <th></th>\n",
       "      <th></th>\n",
       "      <th></th>\n",
       "      <th></th>\n",
       "      <th></th>\n",
       "      <th></th>\n",
       "    </tr>\n",
       "  </thead>\n",
       "  <tbody>\n",
       "    <tr>\n",
       "      <th>RNU1-28P-201</th>\n",
       "      <td>0.0</td>\n",
       "      <td>0.0</td>\n",
       "      <td></td>\n",
       "      <td>snRNA</td>\n",
       "      <td>siLuc</td>\n",
       "      <td>0.0</td>\n",
       "    </tr>\n",
       "    <tr>\n",
       "      <th>RNU1-28P-201</th>\n",
       "      <td>0.0</td>\n",
       "      <td>0.0</td>\n",
       "      <td></td>\n",
       "      <td>snRNA</td>\n",
       "      <td>siLuc</td>\n",
       "      <td>0.0</td>\n",
       "    </tr>\n",
       "    <tr>\n",
       "      <th>RNU1-28P-201</th>\n",
       "      <td>0.0</td>\n",
       "      <td>0.0</td>\n",
       "      <td></td>\n",
       "      <td>snRNA</td>\n",
       "      <td>siLuc</td>\n",
       "      <td>0.0</td>\n",
       "    </tr>\n",
       "    <tr>\n",
       "      <th>RNU1-28P-201</th>\n",
       "      <td>0.0</td>\n",
       "      <td>0.0</td>\n",
       "      <td></td>\n",
       "      <td>snRNA</td>\n",
       "      <td>siLuc</td>\n",
       "      <td>0.0</td>\n",
       "    </tr>\n",
       "    <tr>\n",
       "      <th>RNU1-28P-201</th>\n",
       "      <td>0.0</td>\n",
       "      <td>0.0</td>\n",
       "      <td></td>\n",
       "      <td>snRNA</td>\n",
       "      <td>siLuc</td>\n",
       "      <td>0.0</td>\n",
       "    </tr>\n",
       "  </tbody>\n",
       "</table>\n",
       "</div>"
      ],
      "text/plain": [
       "              3Loc  TailLength TailSeq   Type Source  TotalTail\n",
       "Gene                                                           \n",
       "RNU1-28P-201   0.0         0.0          snRNA  siLuc        0.0\n",
       "RNU1-28P-201   0.0         0.0          snRNA  siLuc        0.0\n",
       "RNU1-28P-201   0.0         0.0          snRNA  siLuc        0.0\n",
       "RNU1-28P-201   0.0         0.0          snRNA  siLuc        0.0\n",
       "RNU1-28P-201   0.0         0.0          snRNA  siLuc        0.0"
      ]
     },
     "execution_count": 3,
     "metadata": {},
     "output_type": "execute_result"
    }
   ],
   "source": [
    "# Filter and combine tail data\n",
    "minTail = -10\n",
    "maxTail = 10\n",
    "filtControl = control[(control['3Loc']+control['TailLength'])>=minTail]\n",
    "filtControl = filtControl[(filtControl['3Loc']+filtControl['TailLength'])<=maxTail]\n",
    "filtControl['Source'] = 'siLuc'\n",
    "\n",
    "filtKD = knockdown[(knockdown['3Loc']+knockdown['TailLength'])>=minTail]\n",
    "filtKD = filtKD[(filtKD['3Loc']+filtKD['TailLength'])<=maxTail]\n",
    "filtKD['Source'] = 'siNoct'\n",
    "\n",
    "filtWT = WTaddback[(WTaddback['3Loc']+WTaddback['TailLength'])>=minTail]\n",
    "filtWT = filtWT[(filtWT['3Loc']+filtWT['TailLength'])<=maxTail]\n",
    "filtWT['Source'] = 'WT Addback'\n",
    "\n",
    "filtEA = EAaddback[(EAaddback['3Loc']+EAaddback['TailLength'])>=minTail]\n",
    "filtEA = filtEA[(filtEA['3Loc']+filtEA['TailLength'])<=maxTail]\n",
    "filtEA['Source'] = 'EA Addback'\n",
    "\n",
    "# Combined experimental data\n",
    "combo = pd.concat([filtControl,filtKD,filtWT,filtEA],ignore_index=True)\n",
    "combo['TotalTail'] = combo['3Loc'] + combo['TailLength']\n",
    "\n",
    "print (\"CONTROL\\nInitial: {}\\nFiltered: {}\\n\".format(len(control),len(filtControl)))\n",
    "print (\"KNOCKDOWN\\nInitial: {}\\nFiltered: {}\\n\".format(len(knockdown),len(filtKD)))\n",
    "print (\"WT\\nInitial: {}\\nFiltered: {}\\n\".format(len(WTaddback),len(filtWT)))\n",
    "print (\"EA\\nInitial: {}\\nFiltered: {}\\n\".format(len(EAaddback),len(filtEA)))\n",
    "combo.set_index('Gene', inplace=True)\n",
    "\n",
    "combo.head()"
   ]
  },
  {
   "cell_type": "code",
   "execution_count": null,
   "metadata": {
    "scrolled": true
   },
   "outputs": [
    {
     "name": "stdout",
     "output_type": "stream",
     "text": [
      "0.0\n",
      "0.09643201542912247\n"
     ]
    }
   ],
   "source": [
    "def TPMmaker(df, source, totalReads):\n",
    "    df = df.set_index('Gene')\n",
    "    df.head()\n",
    "    names = set(df.index)\n",
    "    out = []\n",
    "    # 'Gene', 'Source', 'Count', 'TPM'\n",
    "    i = 0\n",
    "    for name in names:\n",
    "        if i%100 ==0: print(i/len(names))\n",
    "        i+=1\n",
    "        out.append([name,\n",
    "                    df.loc[[name]]['Type'],\n",
    "                    source,\n",
    "                    len(df.loc[[name]]),\n",
    "                    len(df.loc[[name]])/(totalReads/1000000)])\n",
    "    return pd.DataFrame(out, columns = [\"Gene\",'Type','Source','Count','TPM'])\n",
    "\n",
    "TPM = pd.concat([TPMmaker(filtControl,\"siLuc\",len(control)),\n",
    "           TPMmaker(filtKD, \"siNoct\", len(knockdown)),\n",
    "           TPMmaker(filtWT,\"WT Addback\",len(WTaddback)),\n",
    "           TPMmaker(filtEA, \"EA Addback\", len(EAaddback))],\n",
    "          ignore_index=True)"
   ]
  },
  {
   "cell_type": "code",
   "execution_count": 21,
   "metadata": {},
   "outputs": [
    {
     "name": "stdout",
     "output_type": "stream",
     "text": [
      "Tables In!\n"
     ]
    },
    {
     "data": {
      "text/html": [
       "<div>\n",
       "<style>\n",
       "    .dataframe thead tr:only-child th {\n",
       "        text-align: right;\n",
       "    }\n",
       "\n",
       "    .dataframe thead th {\n",
       "        text-align: left;\n",
       "    }\n",
       "\n",
       "    .dataframe tbody tr th {\n",
       "        vertical-align: top;\n",
       "    }\n",
       "</style>\n",
       "<table border=\"1\" class=\"dataframe\">\n",
       "  <thead>\n",
       "    <tr style=\"text-align: right;\">\n",
       "      <th></th>\n",
       "      <th>Gene</th>\n",
       "      <th>Source</th>\n",
       "      <th>Count</th>\n",
       "      <th>TPM</th>\n",
       "    </tr>\n",
       "  </thead>\n",
       "  <tbody>\n",
       "    <tr>\n",
       "      <th>0</th>\n",
       "      <td>Homo_sapiens_tRNA-Lys-TTT-2-1</td>\n",
       "      <td>siLuc</td>\n",
       "      <td>51</td>\n",
       "      <td>13.064254</td>\n",
       "    </tr>\n",
       "    <tr>\n",
       "      <th>1</th>\n",
       "      <td>SNORA79.1-201</td>\n",
       "      <td>siLuc</td>\n",
       "      <td>172</td>\n",
       "      <td>44.059837</td>\n",
       "    </tr>\n",
       "    <tr>\n",
       "      <th>2</th>\n",
       "      <td>Homo_sapiens_tRNA-Val-TAC-2-1</td>\n",
       "      <td>siLuc</td>\n",
       "      <td>6376</td>\n",
       "      <td>1633.287924</td>\n",
       "    </tr>\n",
       "    <tr>\n",
       "      <th>3</th>\n",
       "      <td>Y_RNA.816-201</td>\n",
       "      <td>siLuc</td>\n",
       "      <td>1</td>\n",
       "      <td>0.256162</td>\n",
       "    </tr>\n",
       "    <tr>\n",
       "      <th>4</th>\n",
       "      <td>SNORA76A-202</td>\n",
       "      <td>siLuc</td>\n",
       "      <td>147</td>\n",
       "      <td>37.655791</td>\n",
       "    </tr>\n",
       "  </tbody>\n",
       "</table>\n",
       "</div>"
      ],
      "text/plain": [
       "                            Gene Source  Count          TPM\n",
       "0  Homo_sapiens_tRNA-Lys-TTT-2-1  siLuc     51    13.064254\n",
       "1                  SNORA79.1-201  siLuc    172    44.059837\n",
       "2  Homo_sapiens_tRNA-Val-TAC-2-1  siLuc   6376  1633.287924\n",
       "3                  Y_RNA.816-201  siLuc      1     0.256162\n",
       "4                   SNORA76A-202  siLuc    147    37.655791"
      ]
     },
     "execution_count": 21,
     "metadata": {},
     "output_type": "execute_result"
    }
   ],
   "source": [
    "# Save things as CSV so I don't have to calcuate TPM every time\n",
    "TPM.to_csv('TPM.csv')\n",
    "combo.to_csv('combo.csv')\n",
    "print('CSVs made Brah')\n",
    "\n",
    "TPM = pd.read_csv('TPM.csv',index_col=0)\n",
    "combo = pd.read_csv('combo.csv',index_col=0)\n",
    "TPM.head()"
   ]
  },
  {
   "cell_type": "code",
   "execution_count": 66,
   "metadata": {},
   "outputs": [
    {
     "ename": "ValueError",
     "evalue": "min() arg is an empty sequence",
     "output_type": "error",
     "traceback": [
      "\u001b[1;31m---------------------------------------------------------------------------\u001b[0m",
      "\u001b[1;31mValueError\u001b[0m                                Traceback (most recent call last)",
      "\u001b[1;32m<ipython-input-66-c2c996fd92ec>\u001b[0m in \u001b[0;36m<module>\u001b[1;34m()\u001b[0m\n\u001b[0;32m      2\u001b[0m \u001b[0mtemp\u001b[0m \u001b[1;33m=\u001b[0m \u001b[0mtemp\u001b[0m\u001b[1;33m[\u001b[0m\u001b[0mtemp\u001b[0m\u001b[1;33m[\u001b[0m\u001b[1;34m'Gene'\u001b[0m\u001b[1;33m]\u001b[0m\u001b[1;33m.\u001b[0m\u001b[0mstr\u001b[0m\u001b[1;33m.\u001b[0m\u001b[0mcontains\u001b[0m\u001b[1;33m(\u001b[0m\u001b[1;34m\"Mt_tRNA\"\u001b[0m\u001b[1;33m)\u001b[0m\u001b[1;33m]\u001b[0m\u001b[1;33m\u001b[0m\u001b[0m\n\u001b[0;32m      3\u001b[0m \u001b[0mx\u001b[0m \u001b[1;33m=\u001b[0m \u001b[1;33m[\u001b[0m\u001b[1;34m\"A\"\u001b[0m\u001b[1;33m,\u001b[0m\u001b[1;34m\"B\"\u001b[0m\u001b[1;33m,\u001b[0m\u001b[1;34m\"C\"\u001b[0m\u001b[1;33m,\u001b[0m\u001b[1;34m\"D\"\u001b[0m\u001b[1;33m]\u001b[0m\u001b[1;33m\u001b[0m\u001b[0m\n\u001b[1;32m----> 4\u001b[1;33m \u001b[0msns\u001b[0m\u001b[1;33m.\u001b[0m\u001b[0mbarplot\u001b[0m\u001b[1;33m(\u001b[0m\u001b[0mx\u001b[0m\u001b[1;33m=\u001b[0m\u001b[1;34m\"Gene\"\u001b[0m\u001b[1;33m,\u001b[0m\u001b[0my\u001b[0m\u001b[1;33m=\u001b[0m\u001b[1;34m\"TPM\"\u001b[0m\u001b[1;33m,\u001b[0m\u001b[0mdata\u001b[0m\u001b[1;33m=\u001b[0m\u001b[0mtemp\u001b[0m\u001b[1;33m.\u001b[0m\u001b[0mreset_index\u001b[0m\u001b[1;33m(\u001b[0m\u001b[1;33m)\u001b[0m\u001b[1;33m,\u001b[0m\u001b[0mhue\u001b[0m\u001b[1;33m=\u001b[0m\u001b[1;34m\"Source\"\u001b[0m\u001b[1;33m)\u001b[0m\u001b[1;33m\u001b[0m\u001b[0m\n\u001b[0m\u001b[0;32m      5\u001b[0m \u001b[0mplt\u001b[0m\u001b[1;33m.\u001b[0m\u001b[0mxticks\u001b[0m\u001b[1;33m(\u001b[0m\u001b[0mrotation\u001b[0m\u001b[1;33m=\u001b[0m\u001b[1;33m-\u001b[0m\u001b[1;36m90\u001b[0m\u001b[1;33m)\u001b[0m\u001b[1;33m\u001b[0m\u001b[0m\n\u001b[0;32m      6\u001b[0m \u001b[1;33m\u001b[0m\u001b[0m\n",
      "\u001b[1;32mC:\\Users\\tlsha\\Anaconda3\\lib\\site-packages\\seaborn\\categorical.py\u001b[0m in \u001b[0;36mbarplot\u001b[1;34m(x, y, hue, data, order, hue_order, estimator, ci, n_boot, units, orient, color, palette, saturation, errcolor, errwidth, capsize, ax, **kwargs)\u001b[0m\n\u001b[0;32m   2897\u001b[0m                           \u001b[0mestimator\u001b[0m\u001b[1;33m,\u001b[0m \u001b[0mci\u001b[0m\u001b[1;33m,\u001b[0m \u001b[0mn_boot\u001b[0m\u001b[1;33m,\u001b[0m \u001b[0munits\u001b[0m\u001b[1;33m,\u001b[0m\u001b[1;33m\u001b[0m\u001b[0m\n\u001b[0;32m   2898\u001b[0m                           \u001b[0morient\u001b[0m\u001b[1;33m,\u001b[0m \u001b[0mcolor\u001b[0m\u001b[1;33m,\u001b[0m \u001b[0mpalette\u001b[0m\u001b[1;33m,\u001b[0m \u001b[0msaturation\u001b[0m\u001b[1;33m,\u001b[0m\u001b[1;33m\u001b[0m\u001b[0m\n\u001b[1;32m-> 2899\u001b[1;33m                           errcolor, errwidth, capsize)\n\u001b[0m\u001b[0;32m   2900\u001b[0m \u001b[1;33m\u001b[0m\u001b[0m\n\u001b[0;32m   2901\u001b[0m     \u001b[1;32mif\u001b[0m \u001b[0max\u001b[0m \u001b[1;32mis\u001b[0m \u001b[1;32mNone\u001b[0m\u001b[1;33m:\u001b[0m\u001b[1;33m\u001b[0m\u001b[0m\n",
      "\u001b[1;32mC:\\Users\\tlsha\\Anaconda3\\lib\\site-packages\\seaborn\\categorical.py\u001b[0m in \u001b[0;36m__init__\u001b[1;34m(self, x, y, hue, data, order, hue_order, estimator, ci, n_boot, units, orient, color, palette, saturation, errcolor, errwidth, capsize)\u001b[0m\n\u001b[0;32m   1542\u001b[0m         self.establish_variables(x, y, hue, data, orient,\n\u001b[0;32m   1543\u001b[0m                                  order, hue_order, units)\n\u001b[1;32m-> 1544\u001b[1;33m         \u001b[0mself\u001b[0m\u001b[1;33m.\u001b[0m\u001b[0mestablish_colors\u001b[0m\u001b[1;33m(\u001b[0m\u001b[0mcolor\u001b[0m\u001b[1;33m,\u001b[0m \u001b[0mpalette\u001b[0m\u001b[1;33m,\u001b[0m \u001b[0msaturation\u001b[0m\u001b[1;33m)\u001b[0m\u001b[1;33m\u001b[0m\u001b[0m\n\u001b[0m\u001b[0;32m   1545\u001b[0m         \u001b[0mself\u001b[0m\u001b[1;33m.\u001b[0m\u001b[0mestimate_statistic\u001b[0m\u001b[1;33m(\u001b[0m\u001b[0mestimator\u001b[0m\u001b[1;33m,\u001b[0m \u001b[0mci\u001b[0m\u001b[1;33m,\u001b[0m \u001b[0mn_boot\u001b[0m\u001b[1;33m)\u001b[0m\u001b[1;33m\u001b[0m\u001b[0m\n\u001b[0;32m   1546\u001b[0m \u001b[1;33m\u001b[0m\u001b[0m\n",
      "\u001b[1;32mC:\\Users\\tlsha\\Anaconda3\\lib\\site-packages\\seaborn\\categorical.py\u001b[0m in \u001b[0;36mestablish_colors\u001b[1;34m(self, color, palette, saturation)\u001b[0m\n\u001b[0;32m    304\u001b[0m         \u001b[1;31m# Determine the gray color to use for the lines framing the plot\u001b[0m\u001b[1;33m\u001b[0m\u001b[1;33m\u001b[0m\u001b[0m\n\u001b[0;32m    305\u001b[0m         \u001b[0mlight_vals\u001b[0m \u001b[1;33m=\u001b[0m \u001b[1;33m[\u001b[0m\u001b[0mcolorsys\u001b[0m\u001b[1;33m.\u001b[0m\u001b[0mrgb_to_hls\u001b[0m\u001b[1;33m(\u001b[0m\u001b[1;33m*\u001b[0m\u001b[0mc\u001b[0m\u001b[1;33m)\u001b[0m\u001b[1;33m[\u001b[0m\u001b[1;36m1\u001b[0m\u001b[1;33m]\u001b[0m \u001b[1;32mfor\u001b[0m \u001b[0mc\u001b[0m \u001b[1;32min\u001b[0m \u001b[0mrgb_colors\u001b[0m\u001b[1;33m]\u001b[0m\u001b[1;33m\u001b[0m\u001b[0m\n\u001b[1;32m--> 306\u001b[1;33m         \u001b[0ml\u001b[0m \u001b[1;33m=\u001b[0m \u001b[0mmin\u001b[0m\u001b[1;33m(\u001b[0m\u001b[0mlight_vals\u001b[0m\u001b[1;33m)\u001b[0m \u001b[1;33m*\u001b[0m \u001b[1;36m.6\u001b[0m\u001b[1;33m\u001b[0m\u001b[0m\n\u001b[0m\u001b[0;32m    307\u001b[0m         \u001b[0mgray\u001b[0m \u001b[1;33m=\u001b[0m \u001b[0mmpl\u001b[0m\u001b[1;33m.\u001b[0m\u001b[0mcolors\u001b[0m\u001b[1;33m.\u001b[0m\u001b[0mrgb2hex\u001b[0m\u001b[1;33m(\u001b[0m\u001b[1;33m(\u001b[0m\u001b[0ml\u001b[0m\u001b[1;33m,\u001b[0m \u001b[0ml\u001b[0m\u001b[1;33m,\u001b[0m \u001b[0ml\u001b[0m\u001b[1;33m)\u001b[0m\u001b[1;33m)\u001b[0m\u001b[1;33m\u001b[0m\u001b[0m\n\u001b[0;32m    308\u001b[0m \u001b[1;33m\u001b[0m\u001b[0m\n",
      "\u001b[1;31mValueError\u001b[0m: min() arg is an empty sequence"
     ]
    }
   ],
   "source": [
    "temp = TPM\n",
    "temp = temp[temp['Gene'].str.contains(\"Mt_tRNA\")]\n",
    "x = [\"A\",\"B\",\"C\",\"D\"]\n",
    "sns.barplot(x=\"Gene\",y=\"TPM\",data=temp.reset_index(),hue=\"Source\")\n",
    "plt.xticks(rotation=-90)\n",
    "\n",
    "\n",
    "temp.head()"
   ]
  },
  {
   "cell_type": "code",
   "execution_count": 65,
   "metadata": {},
   "outputs": [],
   "source": [
    "#Find candidates using TPM\n",
    "matCans = []\n",
    "decayCans = []\n",
    "names = list(set(TPM['Gene']))\n",
    "df1 = TPM[TPM['Source']=='siLuc']\n",
    "df2 = TPM[TPM['Source']=='siNoct']\n",
    "df3 = TPM[TPM['Source']=='WT Addback']\n",
    "df4 = TPM[TPM['Source']=='EA Addback']\n",
    "\n",
    "for name in names:\n",
    "    try:\n",
    "        siLuc = (df1[df1['Gene']==name]['TPM']).values[0]\n",
    "        siNoct = (df2[df2['Gene']==name]['TPM']).values[0]\n",
    "        WT = (df3[df3['Gene']==name]['TPM']).values[0]\n",
    "        EA = (df4[df4['Gene']==name]['TPM']).values[0]\n",
    "    except:\n",
    "        continue\n",
    "    \n",
    "    #Changes in TPM preicted by different models\n",
    "    if siLuc > siNoct and siLuc > EA and siNoct < WT and WT > EA: matCans.append([name,siLuc,siNoct,WT,EA])\n",
    "    if siLuc < siNoct and siLuc < EA and siNoct > WT and WT < EA: decayCans.append([name,siLuc,siNoct,WT,EA])\n",
    "        \n",
    "pd.DataFrame(matCans, columns=['Gene','siLuc','siNoct','WT','EA']).to_csv('Maturation_Candidates.csv')\n",
    "pd.DataFrame(decayCans, columns=['Gene','siLuc','siNoct','WT','EA']).to_csv('Decay_Candidates.csv')"
   ]
  },
  {
   "cell_type": "code",
   "execution_count": null,
   "metadata": {
    "collapsed": true
   },
   "outputs": [],
   "source": [
    "values = filtControl['Type'].value_counts()\n",
    "df1=pd.DataFrame(data=values)\n",
    "df1['Source'] = 'Control'\n",
    "df1=df1.assign(Percentage=df1['Type']/df1['Type'].sum())\n",
    "\n",
    "values = filtKD['Type'].value_counts()\n",
    "df2=pd.DataFrame(values)\n",
    "df2['Source'] = 'Knockdown'\n",
    "df2=df2.assign(Percentage=df2['Type']/df2['Type'].sum())\n",
    "\n",
    "values = filtWT['Type'].value_counts()\n",
    "df3=pd.DataFrame(values)\n",
    "df3['Source'] = 'WT Addback'\n",
    "df3=df3.assign(Percentage=df3['Type']/df3['Type'].sum())\n",
    "\n",
    "values = filtEA['Type'].value_counts()\n",
    "df4=pd.DataFrame(values[:-1])\n",
    "df4['Source'] = 'EA Addback'\n",
    "df4=df4.assign(Percentage=df4['Type']/df4['Type'].sum())"
   ]
  },
  {
   "cell_type": "code",
   "execution_count": null,
   "metadata": {
    "collapsed": true
   },
   "outputs": [],
   "source": [
    "#Find a better way to represent this data\n",
    "f, axarr = plt.subplots(2,2, figsize=(13,13))\n",
    "axarr[0,0].set_title(\"siLuc\")\n",
    "axarr[0,1].set_title(\"siNoct\")\n",
    "axarr[1,0].set_title(\"WT Addback\")\n",
    "axarr[1,1].set_title(\"EA Addback\")\n",
    "\n",
    "filtControl['Type'].value_counts().plot(kind='pie',ax=axarr[0,0])\n",
    "filtKD['Type'].value_counts().plot(kind='pie',ax=axarr[0,1])\n",
    "filtWT['Type'].value_counts().plot(kind='pie', ax=axarr[1,0])\n",
    "filtEA['Type'].value_counts().plot(kind='pie',ax=axarr[1,1])"
   ]
  },
  {
   "cell_type": "code",
   "execution_count": null,
   "metadata": {
    "collapsed": true
   },
   "outputs": [],
   "source": [
    "df = pd.read_csv(folderLoc+\"NoctVsWT_candidates.csv\",index_col=False)\n",
    "df.head(10)"
   ]
  },
  {
   "cell_type": "code",
   "execution_count": null,
   "metadata": {
    "collapsed": true
   },
   "outputs": [],
   "source": [
    "df = filtControl[filtControl['Gene'].str.contains('Mt_tRNA')]"
   ]
  },
  {
   "cell_type": "code",
   "execution_count": null,
   "metadata": {
    "collapsed": true
   },
   "outputs": [],
   "source": [
    "plt.figure(figsize=(20,20))\n",
    "df = filtControl[filtControl['Gene'].str.contains('Mt_tRNA')]\n",
    "values, base = np.histogram(df['3Loc']+df['TailLength'], bins=20, normed=True)\n",
    "cumulative = np.cumsum(values)\n",
    "plt.step(base[:-1], cumulative, c='blue')\n",
    "\n",
    "df = filtKD[filtKD['Gene'].str.contains('Mt_tRNA')]\n",
    "values, base = np.histogram(df['3Loc']+df['TailLength'], bins=20, normed=True)\n",
    "cumulative = np.cumsum(values)\n",
    "plt.step(base[:-1], cumulative, c='green')\n",
    "\n",
    "df = filtWT[filtWT['Gene'].str.contains('Mt_tRNA')]\n",
    "values, base = np.histogram(df['3Loc']+df['TailLength'], bins=20, normed=True)\n",
    "cumulative = np.cumsum(values)\n",
    "plt.step(base[:-1], cumulative, c='red')\n",
    "\n",
    "df = filtEA[filtEA['Gene'].str.contains('Mt_tRNA')]\n",
    "values, base = np.histogram(df['3Loc']+df['TailLength'], bins=20, normed=True)\n",
    "cumulative = np.cumsum(values)\n",
    "plt.step(base[:-1], cumulative, c='yellow')\n",
    "\n",
    "#Cumulative plot of mitochondrial tRNA lengths"
   ]
  },
  {
   "cell_type": "code",
   "execution_count": null,
   "metadata": {
    "collapsed": true
   },
   "outputs": [],
   "source": [
    "plt.figure(figsize=(20,20))\n",
    "df = filtControl[filtControl['Gene'].str.contains('gtRNA')]\n",
    "values, base = np.histogram(df['3Loc']+df['TailLength'], bins=20, normed=True)\n",
    "cumulative = np.cumsum(values)\n",
    "plt.step(base[:-1], cumulative, c='blue')\n",
    "\n",
    "df = filtKD[filtKD['Gene'].str.contains('gtRNA')]\n",
    "values, base = np.histogram(df['3Loc']+df['TailLength'], bins=20, normed=True)\n",
    "cumulative = np.cumsum(values)\n",
    "plt.step(base[:-1], cumulative, c='green')\n",
    "\n",
    "df = filtWT[filtWT['Gene'].str.contains('gtRNA')]\n",
    "values, base = np.histogram(df['3Loc']+df['TailLength'], bins=20, normed=True)\n",
    "cumulative = np.cumsum(values)\n",
    "plt.step(base[:-1], cumulative, c='red')\n",
    "\n",
    "df = filtEA[filtEA['Gene'].str.contains('gtRNA')]\n",
    "values, base = np.histogram(df['3Loc']+df['TailLength'], bins=20, normed=True)\n",
    "cumulative = np.cumsum(values)\n",
    "plt.step(base[:-1], cumulative, c='yellow')\n",
    "\n",
    "#cumulative plots of tRNA"
   ]
  },
  {
   "cell_type": "code",
   "execution_count": null,
   "metadata": {
    "collapsed": true
   },
   "outputs": [],
   "source": [
    "df1 = filtControl[filtControl['Gene'].str.contains('gtRNA')]\n",
    "df2 = filtKD[filtKD['Gene'].str.contains('gtRNA')]\n",
    "df3 = filtWT[filtWT['Gene'].str.contains('gtRNA')]\n",
    "df4 = filtEA[filtEA['Gene'].str.contains('gtRNA')]\n"
   ]
  },
  {
   "cell_type": "code",
   "execution_count": null,
   "metadata": {
    "collapsed": true
   },
   "outputs": [],
   "source": [
    "#TPM Calculations\n",
    "df1 = filtControl[filtControl['Gene'].str.contains('tRNA')]\n",
    "TPM1 = pd.DataFrame(df1['Gene'].value_counts()).rename(columns={'Gene':'Count'})\n",
    "TPM1['Source'] = 'Control'\n",
    "TPM1['TPM'] = TPM1['Count']/(len(filtControl)/1000000)\n",
    "\n",
    "df2 = filtKD[filtKD['Gene'].str.contains('tRNA')]\n",
    "TPM2 = pd.DataFrame(df2['Gene'].value_counts()).rename(columns={'Gene':'Count'})\n",
    "TPM2['Source'] = 'siNoct'\n",
    "TPM2['TPM'] = TPM2['Count']/(len(filtKD)/1000000)\n",
    "\n",
    "df3 = filtWT[filtWT['Gene'].str.contains('tRNA')]\n",
    "TPM3 = pd.DataFrame(df3['Gene'].value_counts()).rename(columns={'Gene':'Count'})\n",
    "TPM3['Source'] = 'WT Addback'\n",
    "TPM3['TPM'] = TPM3['Count']/(len(filtWT)/1000000)\n",
    "\n",
    "df4 = filtEA[filtEA['Gene'].str.contains('tRNA')]\n",
    "TPM4 = pd.DataFrame(df4['Gene'].value_counts()).rename(columns={'Gene':'Count'})\n",
    "TPM4['Source'] = 'EA Addback'\n",
    "TPM4['TPM'] = TPM4['Count']/(len(filtEA)/1000000)\n",
    "\n",
    "\n",
    "dude = pd.concat([TPM1,TPM2,TPM3,TPM4])\n",
    "ind = dude.index[:5]\n",
    "dude=dude.ix[ind]\n",
    "dude"
   ]
  },
  {
   "cell_type": "code",
   "execution_count": null,
   "metadata": {
    "collapsed": true
   },
   "outputs": [],
   "source": [
    "plt.figure(figsize=(20,20))\n",
    "sns.barplot(dude.index,dude.TPM,data=dude,hue='Source')\n",
    "plt.xticks(rotation=-90)\n"
   ]
  },
  {
   "cell_type": "code",
   "execution_count": null,
   "metadata": {
    "collapsed": true
   },
   "outputs": [],
   "source": [
    "sns.barplot?"
   ]
  },
  {
   "cell_type": "code",
   "execution_count": null,
   "metadata": {
    "collapsed": true
   },
   "outputs": [],
   "source": [
    "pd.DataFrame?"
   ]
  },
  {
   "cell_type": "code",
   "execution_count": null,
   "metadata": {
    "collapsed": true
   },
   "outputs": [],
   "source": [
    "pd.DataFrame.loc?"
   ]
  },
  {
   "cell_type": "code",
   "execution_count": null,
   "metadata": {
    "collapsed": true
   },
   "outputs": [],
   "source": []
  }
 ],
 "metadata": {
  "kernelspec": {
   "display_name": "Python 3",
   "language": "python",
   "name": "python3"
  },
  "language_info": {
   "codemirror_mode": {
    "name": "ipython",
    "version": 3
   },
   "file_extension": ".py",
   "mimetype": "text/x-python",
   "name": "python",
   "nbconvert_exporter": "python",
   "pygments_lexer": "ipython3",
   "version": "3.6.1"
  }
 },
 "nbformat": 4,
 "nbformat_minor": 1
}
