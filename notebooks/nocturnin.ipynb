{
 "cells": [
  {
   "cell_type": "code",
   "execution_count": 1,
   "metadata": {
    "collapsed": false
   },
   "outputs": [],
   "source": [
    "import sys\n",
    "\n",
    "moduleLoc = \"/Users/Lykke-AndersenLab/PycharmProjects/AnoThER-Seq\"\n",
    "if moduleLoc in sys.path: \n",
    "    print('woo')\n",
    "else:\n",
    "    sys.path.append(moduleLoc)\n",
    "import matplotlib.pyplot as plt\n",
    "import tools\n",
    "import pandas as pd\n",
    "import seaborn as sns\n",
    "import numpy as np\n",
    "\n",
    "# Enable inline plotting\n",
    "%matplotlib inline"
   ]
  },
  {
   "cell_type": "code",
   "execution_count": 2,
   "metadata": {
    "collapsed": false,
    "scrolled": true
   },
   "outputs": [
    {
     "name": "stdout",
     "output_type": "stream",
     "text": [
      "Control In!\n",
      "Knockdown In!\n",
      "WT In!\n",
      "EA In!\n"
     ]
    }
   ],
   "source": [
    "#read tail files into a pd dataframe\n",
    "import imp\n",
    "imp.reload(tools)\n",
    "folderLoc = \"/Users/Lykke-AndersenLab/Dropbox/NoctData/\"\n",
    "controlName = \"siLuc.tails\"\n",
    "KDname = \"siNoct.tails\"\n",
    "WTname = \"NoctWT.tails\"\n",
    "EAname = \"NoctEA.tails\"\n",
    "\n",
    "control = tools.pdTailMaker(folderLoc+controlName)\n",
    "print('Control In!')\n",
    "knockdown = tools.pdTailMaker(folderLoc+KDname)\n",
    "print('Knockdown In!')\n",
    "WTaddback = tools.pdTailMaker(folderLoc+WTname)\n",
    "print('WT In!')\n",
    "EAaddback = tools.pdTailMaker(folderLoc+EAname)\n",
    "print('EA In!')\n"
   ]
  },
  {
   "cell_type": "code",
   "execution_count": 39,
   "metadata": {
    "collapsed": false
   },
   "outputs": [
    {
     "name": "stdout",
     "output_type": "stream",
     "text": [
      "CONTROL\n",
      "Initial: 3903782\n",
      "Filtered: 1351776\n",
      "\n",
      "KNOCKDOWN\n",
      "Initial: 4621080\n",
      "Filtered: 1324006\n",
      "\n",
      "WT\n",
      "Initial: 2411894\n",
      "Filtered: 759185\n",
      "\n",
      "EA\n",
      "Initial: 2579469\n",
      "Filtered: 779416\n",
      "\n"
     ]
    },
    {
     "data": {
      "text/html": [
       "<div>\n",
       "<table border=\"1\" class=\"dataframe\">\n",
       "  <thead>\n",
       "    <tr style=\"text-align: right;\">\n",
       "      <th></th>\n",
       "      <th>Gene</th>\n",
       "      <th>3Loc</th>\n",
       "      <th>TailLength</th>\n",
       "      <th>TailSeq</th>\n",
       "      <th>Type</th>\n",
       "      <th>TotalTail</th>\n",
       "    </tr>\n",
       "    <tr>\n",
       "      <th>Source</th>\n",
       "      <th></th>\n",
       "      <th></th>\n",
       "      <th></th>\n",
       "      <th></th>\n",
       "      <th></th>\n",
       "      <th></th>\n",
       "    </tr>\n",
       "  </thead>\n",
       "  <tbody>\n",
       "    <tr>\n",
       "      <th>siLuc</th>\n",
       "      <td>RNU1-28P-201|snRNA</td>\n",
       "      <td>0.0</td>\n",
       "      <td>0.0</td>\n",
       "      <td></td>\n",
       "      <td>snRNA</td>\n",
       "      <td>0.0</td>\n",
       "    </tr>\n",
       "    <tr>\n",
       "      <th>siLuc</th>\n",
       "      <td>RNU1-28P-201|snRNA</td>\n",
       "      <td>0.0</td>\n",
       "      <td>0.0</td>\n",
       "      <td></td>\n",
       "      <td>snRNA</td>\n",
       "      <td>0.0</td>\n",
       "    </tr>\n",
       "    <tr>\n",
       "      <th>siLuc</th>\n",
       "      <td>RNU1-28P-201|snRNA</td>\n",
       "      <td>0.0</td>\n",
       "      <td>0.0</td>\n",
       "      <td></td>\n",
       "      <td>snRNA</td>\n",
       "      <td>0.0</td>\n",
       "    </tr>\n",
       "    <tr>\n",
       "      <th>siLuc</th>\n",
       "      <td>RNU1-28P-201|snRNA</td>\n",
       "      <td>0.0</td>\n",
       "      <td>0.0</td>\n",
       "      <td></td>\n",
       "      <td>snRNA</td>\n",
       "      <td>0.0</td>\n",
       "    </tr>\n",
       "    <tr>\n",
       "      <th>siLuc</th>\n",
       "      <td>RNU1-28P-201|snRNA</td>\n",
       "      <td>0.0</td>\n",
       "      <td>0.0</td>\n",
       "      <td></td>\n",
       "      <td>snRNA</td>\n",
       "      <td>0.0</td>\n",
       "    </tr>\n",
       "  </tbody>\n",
       "</table>\n",
       "</div>"
      ],
      "text/plain": [
       "                      Gene  3Loc  TailLength TailSeq   Type  TotalTail\n",
       "Source                                                                \n",
       "siLuc   RNU1-28P-201|snRNA   0.0         0.0          snRNA        0.0\n",
       "siLuc   RNU1-28P-201|snRNA   0.0         0.0          snRNA        0.0\n",
       "siLuc   RNU1-28P-201|snRNA   0.0         0.0          snRNA        0.0\n",
       "siLuc   RNU1-28P-201|snRNA   0.0         0.0          snRNA        0.0\n",
       "siLuc   RNU1-28P-201|snRNA   0.0         0.0          snRNA        0.0"
      ]
     },
     "execution_count": 39,
     "metadata": {},
     "output_type": "execute_result"
    }
   ],
   "source": [
    "minTail = -10\n",
    "maxTail = 10\n",
    "filtControl = control[(control['3Loc']+control['TailLength'])>=minTail]\n",
    "filtControl = filtControl[(filtControl['3Loc']+filtControl['TailLength'])<=maxTail]\n",
    "filtControl['Source'] = 'siLuc'\n",
    "\n",
    "filtKD = knockdown[(knockdown['3Loc']+knockdown['TailLength'])>=minTail]\n",
    "filtKD = filtKD[(filtKD['3Loc']+filtKD['TailLength'])<=maxTail]\n",
    "filtKD['Source'] = 'siNoct'\n",
    "\n",
    "filtWT = WTaddback[(WTaddback['3Loc']+WTaddback['TailLength'])>=minTail]\n",
    "filtWT = filtWT[(filtWT['3Loc']+filtWT['TailLength'])<=maxTail]\n",
    "filtWT['Source'] = 'WT Addback'\n",
    "\n",
    "filtEA = EAaddback[(EAaddback['3Loc']+EAaddback['TailLength'])>=minTail]\n",
    "filtEA = filtEA[(filtEA['3Loc']+filtEA['TailLength'])<=maxTail]\n",
    "filtEA['Source'] = 'EA Addback'\n",
    "\n",
    "combo = pd.concat([filtControl,filtKD,filtWT,filtEA],ignore_index=True)\n",
    "combo['TotalTail'] = combo['3Loc'] + combo['TailLength']\n",
    "\n",
    "print (\"CONTROL\\nInitial: {}\\nFiltered: {}\\n\".format(len(control),len(filtControl)))\n",
    "print (\"KNOCKDOWN\\nInitial: {}\\nFiltered: {}\\n\".format(len(knockdown),len(filtKD)))\n",
    "print (\"WT\\nInitial: {}\\nFiltered: {}\\n\".format(len(WTaddback),len(filtWT)))\n",
    "print (\"EA\\nInitial: {}\\nFiltered: {}\\n\".format(len(EAaddback),len(filtEA)))\n",
    "combo.set_index('Source', inplace=True)\n",
    "\n",
    "# Combined experimental data\n",
    "combo.head()"
   ]
  },
  {
   "cell_type": "code",
   "execution_count": null,
   "metadata": {
    "collapsed": false
   },
   "outputs": [],
   "source": [
    "# TPM Table\n",
    "names = list(set(combo.Gene))\n",
    "sources = list(set(combo.index))\n",
    "TPM = pd.DataFrame(columns=['Source','Count','TPM'])\n"
   ]
  },
  {
   "cell_type": "code",
   "execution_count": 22,
   "metadata": {
    "collapsed": false
   },
   "outputs": [],
   "source": [
    "values = filtControl['Type'].value_counts()\n",
    "df1=pd.DataFrame(data=values)\n",
    "df1['Source'] = 'Control'\n",
    "df1=df1.assign(Percentage=df1['Type']/df1['Type'].sum())\n",
    "\n",
    "values = filtKD['Type'].value_counts()\n",
    "df2=pd.DataFrame(values)\n",
    "df2['Source'] = 'Knockdown'\n",
    "df2=df2.assign(Percentage=df2['Type']/df2['Type'].sum())\n",
    "\n",
    "values = filtWT['Type'].value_counts()\n",
    "df3=pd.DataFrame(values)\n",
    "df3['Source'] = 'WT Addback'\n",
    "df3=df3.assign(Percentage=df3['Type']/df3['Type'].sum())\n",
    "\n",
    "values = filtEA['Type'].value_counts()\n",
    "df4=pd.DataFrame(values[:-1])\n",
    "df4['Source'] = 'EA Addback'\n",
    "df4=df4.assign(Percentage=df4['Type']/df4['Type'].sum())"
   ]
  },
  {
   "cell_type": "code",
   "execution_count": null,
   "metadata": {
    "collapsed": false
   },
   "outputs": [],
   "source": [
    "#Find a better way to represent this data\n",
    "f, axarr = plt.subplots(2,2, figsize=(13,13))\n",
    "axarr[0,0].set_title(\"siLuc\")\n",
    "axarr[0,1].set_title(\"siNoct\")\n",
    "axarr[1,0].set_title(\"WT Addback\")\n",
    "axarr[1,1].set_title(\"EA Addback\")\n",
    "\n",
    "filtControl['Type'].value_counts().plot(kind='pie',ax=axarr[0,0])\n",
    "filtKD['Type'].value_counts().plot(kind='pie',ax=axarr[0,1])\n",
    "filtWT['Type'].value_counts().plot(kind='pie', ax=axarr[1,0])\n",
    "filtEA['Type'].value_counts().plot(kind='pie',ax=axarr[1,1])"
   ]
  },
  {
   "cell_type": "code",
   "execution_count": null,
   "metadata": {
    "collapsed": false
   },
   "outputs": [],
   "source": [
    "df = pd.read_csv(folderLoc+\"NoctVsWT_candidates.csv\",index_col=False)\n",
    "df.head(10)"
   ]
  },
  {
   "cell_type": "code",
   "execution_count": null,
   "metadata": {
    "collapsed": false
   },
   "outputs": [],
   "source": [
    "df = filtControl[filtControl['Gene'].str.contains('Mt_tRNA')]"
   ]
  },
  {
   "cell_type": "code",
   "execution_count": null,
   "metadata": {
    "collapsed": false
   },
   "outputs": [],
   "source": [
    "plt.figure(figsize=(20,20))\n",
    "df = filtControl[filtControl['Gene'].str.contains('Mt_tRNA')]\n",
    "values, base = np.histogram(df['3Loc']+df['TailLength'], bins=20, normed=True)\n",
    "cumulative = np.cumsum(values)\n",
    "plt.step(base[:-1], cumulative, c='blue')\n",
    "\n",
    "df = filtKD[filtKD['Gene'].str.contains('Mt_tRNA')]\n",
    "values, base = np.histogram(df['3Loc']+df['TailLength'], bins=20, normed=True)\n",
    "cumulative = np.cumsum(values)\n",
    "plt.step(base[:-1], cumulative, c='green')\n",
    "\n",
    "df = filtWT[filtWT['Gene'].str.contains('Mt_tRNA')]\n",
    "values, base = np.histogram(df['3Loc']+df['TailLength'], bins=20, normed=True)\n",
    "cumulative = np.cumsum(values)\n",
    "plt.step(base[:-1], cumulative, c='red')\n",
    "\n",
    "df = filtEA[filtEA['Gene'].str.contains('Mt_tRNA')]\n",
    "values, base = np.histogram(df['3Loc']+df['TailLength'], bins=20, normed=True)\n",
    "cumulative = np.cumsum(values)\n",
    "plt.step(base[:-1], cumulative, c='yellow')\n",
    "\n",
    "#Cumulative plot of mitochondrial tRNA lengths"
   ]
  },
  {
   "cell_type": "code",
   "execution_count": null,
   "metadata": {
    "collapsed": false
   },
   "outputs": [],
   "source": [
    "plt.figure(figsize=(20,20))\n",
    "df = filtControl[filtControl['Gene'].str.contains('gtRNA')]\n",
    "values, base = np.histogram(df['3Loc']+df['TailLength'], bins=20, normed=True)\n",
    "cumulative = np.cumsum(values)\n",
    "plt.step(base[:-1], cumulative, c='blue')\n",
    "\n",
    "df = filtKD[filtKD['Gene'].str.contains('gtRNA')]\n",
    "values, base = np.histogram(df['3Loc']+df['TailLength'], bins=20, normed=True)\n",
    "cumulative = np.cumsum(values)\n",
    "plt.step(base[:-1], cumulative, c='green')\n",
    "\n",
    "df = filtWT[filtWT['Gene'].str.contains('gtRNA')]\n",
    "values, base = np.histogram(df['3Loc']+df['TailLength'], bins=20, normed=True)\n",
    "cumulative = np.cumsum(values)\n",
    "plt.step(base[:-1], cumulative, c='red')\n",
    "\n",
    "df = filtEA[filtEA['Gene'].str.contains('gtRNA')]\n",
    "values, base = np.histogram(df['3Loc']+df['TailLength'], bins=20, normed=True)\n",
    "cumulative = np.cumsum(values)\n",
    "plt.step(base[:-1], cumulative, c='yellow')\n",
    "\n",
    "#cumulative plots of tRNA"
   ]
  },
  {
   "cell_type": "code",
   "execution_count": null,
   "metadata": {
    "collapsed": true
   },
   "outputs": [],
   "source": [
    "df1 = filtControl[filtControl['Gene'].str.contains('gtRNA')]\n",
    "df2 = filtKD[filtKD['Gene'].str.contains('gtRNA')]\n",
    "df3 = filtWT[filtWT['Gene'].str.contains('gtRNA')]\n",
    "df4 = filtEA[filtEA['Gene'].str.contains('gtRNA')]\n"
   ]
  },
  {
   "cell_type": "code",
   "execution_count": null,
   "metadata": {
    "collapsed": false
   },
   "outputs": [],
   "source": [
    "#TPM Calculations\n",
    "df1 = filtControl[filtControl['Gene'].str.contains('tRNA')]\n",
    "TPM1 = pd.DataFrame(df1['Gene'].value_counts()).rename(columns={'Gene':'Count'})\n",
    "TPM1['Source'] = 'Control'\n",
    "TPM1['TPM'] = TPM1['Count']/(len(filtControl)/1000000)\n",
    "\n",
    "df2 = filtKD[filtKD['Gene'].str.contains('tRNA')]\n",
    "TPM2 = pd.DataFrame(df2['Gene'].value_counts()).rename(columns={'Gene':'Count'})\n",
    "TPM2['Source'] = 'siNoct'\n",
    "TPM2['TPM'] = TPM2['Count']/(len(filtKD)/1000000)\n",
    "\n",
    "df3 = filtWT[filtWT['Gene'].str.contains('tRNA')]\n",
    "TPM3 = pd.DataFrame(df3['Gene'].value_counts()).rename(columns={'Gene':'Count'})\n",
    "TPM3['Source'] = 'WT Addback'\n",
    "TPM3['TPM'] = TPM3['Count']/(len(filtWT)/1000000)\n",
    "\n",
    "df4 = filtEA[filtEA['Gene'].str.contains('tRNA')]\n",
    "TPM4 = pd.DataFrame(df4['Gene'].value_counts()).rename(columns={'Gene':'Count'})\n",
    "TPM4['Source'] = 'EA Addback'\n",
    "TPM4['TPM'] = TPM4['Count']/(len(filtEA)/1000000)\n",
    "\n",
    "\n",
    "dude = pd.concat([TPM1,TPM2,TPM3,TPM4])\n",
    "ind = dude.index[:5]\n",
    "dude=dude.ix[ind]\n",
    "dude"
   ]
  },
  {
   "cell_type": "code",
   "execution_count": null,
   "metadata": {
    "collapsed": false
   },
   "outputs": [],
   "source": [
    "plt.figure(figsize=(20,20))\n",
    "sns.barplot(dude.index,dude.TPM,data=dude,hue='Source')\n",
    "plt.xticks(rotation=-90)\n"
   ]
  },
  {
   "cell_type": "code",
   "execution_count": null,
   "metadata": {
    "collapsed": false
   },
   "outputs": [],
   "source": [
    "sns.barplot?"
   ]
  },
  {
   "cell_type": "code",
   "execution_count": null,
   "metadata": {
    "collapsed": true
   },
   "outputs": [],
   "source": [
    "pd.DataFrame?"
   ]
  },
  {
   "cell_type": "code",
   "execution_count": 17,
   "metadata": {
    "collapsed": false
   },
   "outputs": [],
   "source": [
    "pd.DataFrame.loc?"
   ]
  },
  {
   "cell_type": "code",
   "execution_count": null,
   "metadata": {
    "collapsed": true
   },
   "outputs": [],
   "source": []
  }
 ],
 "metadata": {
  "kernelspec": {
   "display_name": "Python 3",
   "language": "python",
   "name": "python3"
  },
  "language_info": {
   "codemirror_mode": {
    "name": "ipython",
    "version": 3
   },
   "file_extension": ".py",
   "mimetype": "text/x-python",
   "name": "python",
   "nbconvert_exporter": "python",
   "pygments_lexer": "ipython3",
   "version": "3.5.1"
  }
 },
 "nbformat": 4,
 "nbformat_minor": 1
}
